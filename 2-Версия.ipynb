{
  "nbformat": 4,
  "nbformat_minor": 0,
  "metadata": {
    "colab": {
      "provenance": [],
      "gpuType": "T4"
    },
    "kernelspec": {
      "name": "python3",
      "display_name": "Python 3"
    },
    "language_info": {
      "name": "python"
    },
    "accelerator": "GPU"
  },
  "cells": [
    {
      "cell_type": "code",
      "execution_count": null,
      "metadata": {
        "id": "_TI4MA3Sgj5I",
        "colab": {
          "base_uri": "https://localhost:8080/"
        },
        "outputId": "a351bdf9-09e1-4e29-9741-8c8093f35eff"
      },
      "outputs": [
        {
          "output_type": "stream",
          "name": "stdout",
          "text": [
            "Mounted at /content/gdrive\n"
          ]
        }
      ],
      "source": [
        "from google.colab import drive\n",
        "\n",
        "drive.mount('/content/gdrive')"
      ]
    },
    {
      "cell_type": "code",
      "source": [
        "data = '/content/dataset.csv'"
      ],
      "metadata": {
        "id": "PnlxurDehnq-"
      },
      "execution_count": null,
      "outputs": []
    },
    {
      "cell_type": "code",
      "source": [
        "!ls /content/gdrive/My Drive/dataset.csv"
      ],
      "metadata": {
        "colab": {
          "base_uri": "https://localhost:8080/"
        },
        "id": "-7OL_jYNhwty",
        "outputId": "ec70d2cf-433a-4907-f2be-ce5d6fa898cb"
      },
      "execution_count": null,
      "outputs": [
        {
          "output_type": "stream",
          "name": "stdout",
          "text": [
            "ls: cannot access '/content/gdrive/My': No such file or directory\n",
            "ls: cannot access 'Drive/dataset.csv': No such file or directory\n"
          ]
        }
      ]
    },
    {
      "cell_type": "code",
      "source": [
        "import pandas as pd"
      ],
      "metadata": {
        "id": "-WTETBhji-qh"
      },
      "execution_count": null,
      "outputs": []
    },
    {
      "cell_type": "code",
      "source": [
        "sales_df_train_1 = pd.read_csv('/content/dataset.csv')"
      ],
      "metadata": {
        "id": "xvXqljyEitOZ"
      },
      "execution_count": null,
      "outputs": []
    },
    {
      "cell_type": "code",
      "source": [
        "sales_df_train_1.head()"
      ],
      "metadata": {
        "colab": {
          "base_uri": "https://localhost:8080/",
          "height": 342
        },
        "id": "kZW4oe4qjDQI",
        "outputId": "ee8dc0b8-2532-4dfc-c169-451d4b9c07bd"
      },
      "execution_count": null,
      "outputs": [
        {
          "output_type": "execute_result",
          "data": {
            "text/plain": [
              "         date                             st_id  \\\n",
              "0  2022-08-01  f7e6c85504ce6e82442c770f7c8606f0   \n",
              "1  2022-08-01  16a5cdae362b8d27a1d8f8c7b78b4330   \n",
              "2  2022-08-01  42a0e188f5033bc65bf8d78622277c4e   \n",
              "3  2022-08-01  fa7cdfad1a5aaf8370ebeda47a1ff1c3   \n",
              "4  2022-08-01  c81e728d9d4c2f636f067f89cc14862c   \n",
              "\n",
              "                          pr_sku_id  pr_sales_type_id  pr_sales_in_units  \\\n",
              "0  ca4c5a242147c851906ae4fd6320a4d4                 0                3.0   \n",
              "1  5b26f85ccb23039364226f66f0366c66                 1                2.0   \n",
              "2  65ebd984baa08be2dcd09ff15c254fdb                 1                8.0   \n",
              "3  dd58fb957a4cf683ad786792f9e8eec9                 0                3.0   \n",
              "4  c24c65259d90ed4a19ab37b6fd6fe716                 1               50.0   \n",
              "\n",
              "   pr_promo_sales_in_units  pr_sales_in_rub  pr_promo_sales_in_rub  \\\n",
              "0                      0.0             77.0                    0.0   \n",
              "1                      2.0             25.0                   25.0   \n",
              "2                      8.0           1166.0                 1166.0   \n",
              "3                      0.0            668.0                    0.0   \n",
              "4                     50.0           8096.0                 8096.0   \n",
              "\n",
              "        price    year  ...                       pr_group_id  \\\n",
              "0   25.666667  2022.0  ...  c74d97b01eae257e44aa9d5bade97baf   \n",
              "1   12.500000  2022.0  ...  c74d97b01eae257e44aa9d5bade97baf   \n",
              "2  145.750000  2022.0  ...  c20ad4d76fe97759aa27a0c99bff6710   \n",
              "3  222.666667  2022.0  ...  6512bd43d9caa6e02c990b0a82652dca   \n",
              "4  161.920000  2022.0  ...  6512bd43d9caa6e02c990b0a82652dca   \n",
              "\n",
              "                          pr_cat_id                      pr_subcat_id  \\\n",
              "0  1bc0249a6412ef49b07fe6f62e6dc8de  ca34f669ae367c87f0e75dcae0f61ee5   \n",
              "1  c559da2ba967eb820766939a658022c8  8ec316a6bd7240d74c0567a1d9b311e5   \n",
              "2  fb2fcd534b0ff3bbed73cc51df620323  ee7d94b81244a5f3b392d4113bacf408   \n",
              "3  e58cc5ca94270acaceed13bc82dfedf7  c93c26cd49ea08e6b8984351d4164575   \n",
              "4  b59c67bf196a4758191e42f76670ceba  a09fe216278f103e70a7a179e173831c   \n",
              "\n",
              "   pr_uom_id                        st_city_id  \\\n",
              "0       17.0  3202111cf90e7c816a472aaceb72b0df   \n",
              "1       17.0  c1f75cc0f7fe269dd0fd9bd5e24f9586   \n",
              "2        1.0  b8b4b727d6f5d1b61fff7be687f7970f   \n",
              "3        1.0  885fe656777008c335ac96072a45be15   \n",
              "4        1.0  908c9a564a86426585b29f5335b619bc   \n",
              "\n",
              "                   st_division_code st_type_format_id st_type_loc_id  \\\n",
              "0  32586311f16876abf92901085bd87b99               1.0            1.0   \n",
              "1  296bd0cc6e735f9d7488ebc8fbc19130               1.0            2.0   \n",
              "2  da742b3cfca5388aaf9af28a726a3c30               1.0            1.0   \n",
              "3  296bd0cc6e735f9d7488ebc8fbc19130               1.0            1.0   \n",
              "4  429a86ff6336c144ddaf6144f52ab52c               1.0            1.0   \n",
              "\n",
              "   st_type_size_id st_is_active  \n",
              "0             12.0          1.0  \n",
              "1              8.0          1.0  \n",
              "2             12.0          1.0  \n",
              "3             12.0          1.0  \n",
              "4              8.0          1.0  \n",
              "\n",
              "[5 rows x 25 columns]"
            ],
            "text/html": [
              "\n",
              "  <div id=\"df-c9c2850f-1033-4af3-bf94-f084ab181cb6\" class=\"colab-df-container\">\n",
              "    <div>\n",
              "<style scoped>\n",
              "    .dataframe tbody tr th:only-of-type {\n",
              "        vertical-align: middle;\n",
              "    }\n",
              "\n",
              "    .dataframe tbody tr th {\n",
              "        vertical-align: top;\n",
              "    }\n",
              "\n",
              "    .dataframe thead th {\n",
              "        text-align: right;\n",
              "    }\n",
              "</style>\n",
              "<table border=\"1\" class=\"dataframe\">\n",
              "  <thead>\n",
              "    <tr style=\"text-align: right;\">\n",
              "      <th></th>\n",
              "      <th>date</th>\n",
              "      <th>st_id</th>\n",
              "      <th>pr_sku_id</th>\n",
              "      <th>pr_sales_type_id</th>\n",
              "      <th>pr_sales_in_units</th>\n",
              "      <th>pr_promo_sales_in_units</th>\n",
              "      <th>pr_sales_in_rub</th>\n",
              "      <th>pr_promo_sales_in_rub</th>\n",
              "      <th>price</th>\n",
              "      <th>year</th>\n",
              "      <th>...</th>\n",
              "      <th>pr_group_id</th>\n",
              "      <th>pr_cat_id</th>\n",
              "      <th>pr_subcat_id</th>\n",
              "      <th>pr_uom_id</th>\n",
              "      <th>st_city_id</th>\n",
              "      <th>st_division_code</th>\n",
              "      <th>st_type_format_id</th>\n",
              "      <th>st_type_loc_id</th>\n",
              "      <th>st_type_size_id</th>\n",
              "      <th>st_is_active</th>\n",
              "    </tr>\n",
              "  </thead>\n",
              "  <tbody>\n",
              "    <tr>\n",
              "      <th>0</th>\n",
              "      <td>2022-08-01</td>\n",
              "      <td>f7e6c85504ce6e82442c770f7c8606f0</td>\n",
              "      <td>ca4c5a242147c851906ae4fd6320a4d4</td>\n",
              "      <td>0</td>\n",
              "      <td>3.0</td>\n",
              "      <td>0.0</td>\n",
              "      <td>77.0</td>\n",
              "      <td>0.0</td>\n",
              "      <td>25.666667</td>\n",
              "      <td>2022.0</td>\n",
              "      <td>...</td>\n",
              "      <td>c74d97b01eae257e44aa9d5bade97baf</td>\n",
              "      <td>1bc0249a6412ef49b07fe6f62e6dc8de</td>\n",
              "      <td>ca34f669ae367c87f0e75dcae0f61ee5</td>\n",
              "      <td>17.0</td>\n",
              "      <td>3202111cf90e7c816a472aaceb72b0df</td>\n",
              "      <td>32586311f16876abf92901085bd87b99</td>\n",
              "      <td>1.0</td>\n",
              "      <td>1.0</td>\n",
              "      <td>12.0</td>\n",
              "      <td>1.0</td>\n",
              "    </tr>\n",
              "    <tr>\n",
              "      <th>1</th>\n",
              "      <td>2022-08-01</td>\n",
              "      <td>16a5cdae362b8d27a1d8f8c7b78b4330</td>\n",
              "      <td>5b26f85ccb23039364226f66f0366c66</td>\n",
              "      <td>1</td>\n",
              "      <td>2.0</td>\n",
              "      <td>2.0</td>\n",
              "      <td>25.0</td>\n",
              "      <td>25.0</td>\n",
              "      <td>12.500000</td>\n",
              "      <td>2022.0</td>\n",
              "      <td>...</td>\n",
              "      <td>c74d97b01eae257e44aa9d5bade97baf</td>\n",
              "      <td>c559da2ba967eb820766939a658022c8</td>\n",
              "      <td>8ec316a6bd7240d74c0567a1d9b311e5</td>\n",
              "      <td>17.0</td>\n",
              "      <td>c1f75cc0f7fe269dd0fd9bd5e24f9586</td>\n",
              "      <td>296bd0cc6e735f9d7488ebc8fbc19130</td>\n",
              "      <td>1.0</td>\n",
              "      <td>2.0</td>\n",
              "      <td>8.0</td>\n",
              "      <td>1.0</td>\n",
              "    </tr>\n",
              "    <tr>\n",
              "      <th>2</th>\n",
              "      <td>2022-08-01</td>\n",
              "      <td>42a0e188f5033bc65bf8d78622277c4e</td>\n",
              "      <td>65ebd984baa08be2dcd09ff15c254fdb</td>\n",
              "      <td>1</td>\n",
              "      <td>8.0</td>\n",
              "      <td>8.0</td>\n",
              "      <td>1166.0</td>\n",
              "      <td>1166.0</td>\n",
              "      <td>145.750000</td>\n",
              "      <td>2022.0</td>\n",
              "      <td>...</td>\n",
              "      <td>c20ad4d76fe97759aa27a0c99bff6710</td>\n",
              "      <td>fb2fcd534b0ff3bbed73cc51df620323</td>\n",
              "      <td>ee7d94b81244a5f3b392d4113bacf408</td>\n",
              "      <td>1.0</td>\n",
              "      <td>b8b4b727d6f5d1b61fff7be687f7970f</td>\n",
              "      <td>da742b3cfca5388aaf9af28a726a3c30</td>\n",
              "      <td>1.0</td>\n",
              "      <td>1.0</td>\n",
              "      <td>12.0</td>\n",
              "      <td>1.0</td>\n",
              "    </tr>\n",
              "    <tr>\n",
              "      <th>3</th>\n",
              "      <td>2022-08-01</td>\n",
              "      <td>fa7cdfad1a5aaf8370ebeda47a1ff1c3</td>\n",
              "      <td>dd58fb957a4cf683ad786792f9e8eec9</td>\n",
              "      <td>0</td>\n",
              "      <td>3.0</td>\n",
              "      <td>0.0</td>\n",
              "      <td>668.0</td>\n",
              "      <td>0.0</td>\n",
              "      <td>222.666667</td>\n",
              "      <td>2022.0</td>\n",
              "      <td>...</td>\n",
              "      <td>6512bd43d9caa6e02c990b0a82652dca</td>\n",
              "      <td>e58cc5ca94270acaceed13bc82dfedf7</td>\n",
              "      <td>c93c26cd49ea08e6b8984351d4164575</td>\n",
              "      <td>1.0</td>\n",
              "      <td>885fe656777008c335ac96072a45be15</td>\n",
              "      <td>296bd0cc6e735f9d7488ebc8fbc19130</td>\n",
              "      <td>1.0</td>\n",
              "      <td>1.0</td>\n",
              "      <td>12.0</td>\n",
              "      <td>1.0</td>\n",
              "    </tr>\n",
              "    <tr>\n",
              "      <th>4</th>\n",
              "      <td>2022-08-01</td>\n",
              "      <td>c81e728d9d4c2f636f067f89cc14862c</td>\n",
              "      <td>c24c65259d90ed4a19ab37b6fd6fe716</td>\n",
              "      <td>1</td>\n",
              "      <td>50.0</td>\n",
              "      <td>50.0</td>\n",
              "      <td>8096.0</td>\n",
              "      <td>8096.0</td>\n",
              "      <td>161.920000</td>\n",
              "      <td>2022.0</td>\n",
              "      <td>...</td>\n",
              "      <td>6512bd43d9caa6e02c990b0a82652dca</td>\n",
              "      <td>b59c67bf196a4758191e42f76670ceba</td>\n",
              "      <td>a09fe216278f103e70a7a179e173831c</td>\n",
              "      <td>1.0</td>\n",
              "      <td>908c9a564a86426585b29f5335b619bc</td>\n",
              "      <td>429a86ff6336c144ddaf6144f52ab52c</td>\n",
              "      <td>1.0</td>\n",
              "      <td>1.0</td>\n",
              "      <td>8.0</td>\n",
              "      <td>1.0</td>\n",
              "    </tr>\n",
              "  </tbody>\n",
              "</table>\n",
              "<p>5 rows × 25 columns</p>\n",
              "</div>\n",
              "    <div class=\"colab-df-buttons\">\n",
              "\n",
              "  <div class=\"colab-df-container\">\n",
              "    <button class=\"colab-df-convert\" onclick=\"convertToInteractive('df-c9c2850f-1033-4af3-bf94-f084ab181cb6')\"\n",
              "            title=\"Convert this dataframe to an interactive table.\"\n",
              "            style=\"display:none;\">\n",
              "\n",
              "  <svg xmlns=\"http://www.w3.org/2000/svg\" height=\"24px\" viewBox=\"0 -960 960 960\">\n",
              "    <path d=\"M120-120v-720h720v720H120Zm60-500h600v-160H180v160Zm220 220h160v-160H400v160Zm0 220h160v-160H400v160ZM180-400h160v-160H180v160Zm440 0h160v-160H620v160ZM180-180h160v-160H180v160Zm440 0h160v-160H620v160Z\"/>\n",
              "  </svg>\n",
              "    </button>\n",
              "\n",
              "  <style>\n",
              "    .colab-df-container {\n",
              "      display:flex;\n",
              "      gap: 12px;\n",
              "    }\n",
              "\n",
              "    .colab-df-convert {\n",
              "      background-color: #E8F0FE;\n",
              "      border: none;\n",
              "      border-radius: 50%;\n",
              "      cursor: pointer;\n",
              "      display: none;\n",
              "      fill: #1967D2;\n",
              "      height: 32px;\n",
              "      padding: 0 0 0 0;\n",
              "      width: 32px;\n",
              "    }\n",
              "\n",
              "    .colab-df-convert:hover {\n",
              "      background-color: #E2EBFA;\n",
              "      box-shadow: 0px 1px 2px rgba(60, 64, 67, 0.3), 0px 1px 3px 1px rgba(60, 64, 67, 0.15);\n",
              "      fill: #174EA6;\n",
              "    }\n",
              "\n",
              "    .colab-df-buttons div {\n",
              "      margin-bottom: 4px;\n",
              "    }\n",
              "\n",
              "    [theme=dark] .colab-df-convert {\n",
              "      background-color: #3B4455;\n",
              "      fill: #D2E3FC;\n",
              "    }\n",
              "\n",
              "    [theme=dark] .colab-df-convert:hover {\n",
              "      background-color: #434B5C;\n",
              "      box-shadow: 0px 1px 3px 1px rgba(0, 0, 0, 0.15);\n",
              "      filter: drop-shadow(0px 1px 2px rgba(0, 0, 0, 0.3));\n",
              "      fill: #FFFFFF;\n",
              "    }\n",
              "  </style>\n",
              "\n",
              "    <script>\n",
              "      const buttonEl =\n",
              "        document.querySelector('#df-c9c2850f-1033-4af3-bf94-f084ab181cb6 button.colab-df-convert');\n",
              "      buttonEl.style.display =\n",
              "        google.colab.kernel.accessAllowed ? 'block' : 'none';\n",
              "\n",
              "      async function convertToInteractive(key) {\n",
              "        const element = document.querySelector('#df-c9c2850f-1033-4af3-bf94-f084ab181cb6');\n",
              "        const dataTable =\n",
              "          await google.colab.kernel.invokeFunction('convertToInteractive',\n",
              "                                                    [key], {});\n",
              "        if (!dataTable) return;\n",
              "\n",
              "        const docLinkHtml = 'Like what you see? Visit the ' +\n",
              "          '<a target=\"_blank\" href=https://colab.research.google.com/notebooks/data_table.ipynb>data table notebook</a>'\n",
              "          + ' to learn more about interactive tables.';\n",
              "        element.innerHTML = '';\n",
              "        dataTable['output_type'] = 'display_data';\n",
              "        await google.colab.output.renderOutput(dataTable, element);\n",
              "        const docLink = document.createElement('div');\n",
              "        docLink.innerHTML = docLinkHtml;\n",
              "        element.appendChild(docLink);\n",
              "      }\n",
              "    </script>\n",
              "  </div>\n",
              "\n",
              "\n",
              "<div id=\"df-23a1c4c9-50a8-4106-a783-061c94482a64\">\n",
              "  <button class=\"colab-df-quickchart\" onclick=\"quickchart('df-23a1c4c9-50a8-4106-a783-061c94482a64')\"\n",
              "            title=\"Suggest charts.\"\n",
              "            style=\"display:none;\">\n",
              "\n",
              "<svg xmlns=\"http://www.w3.org/2000/svg\" height=\"24px\"viewBox=\"0 0 24 24\"\n",
              "     width=\"24px\">\n",
              "    <g>\n",
              "        <path d=\"M19 3H5c-1.1 0-2 .9-2 2v14c0 1.1.9 2 2 2h14c1.1 0 2-.9 2-2V5c0-1.1-.9-2-2-2zM9 17H7v-7h2v7zm4 0h-2V7h2v10zm4 0h-2v-4h2v4z\"/>\n",
              "    </g>\n",
              "</svg>\n",
              "  </button>\n",
              "\n",
              "<style>\n",
              "  .colab-df-quickchart {\n",
              "      --bg-color: #E8F0FE;\n",
              "      --fill-color: #1967D2;\n",
              "      --hover-bg-color: #E2EBFA;\n",
              "      --hover-fill-color: #174EA6;\n",
              "      --disabled-fill-color: #AAA;\n",
              "      --disabled-bg-color: #DDD;\n",
              "  }\n",
              "\n",
              "  [theme=dark] .colab-df-quickchart {\n",
              "      --bg-color: #3B4455;\n",
              "      --fill-color: #D2E3FC;\n",
              "      --hover-bg-color: #434B5C;\n",
              "      --hover-fill-color: #FFFFFF;\n",
              "      --disabled-bg-color: #3B4455;\n",
              "      --disabled-fill-color: #666;\n",
              "  }\n",
              "\n",
              "  .colab-df-quickchart {\n",
              "    background-color: var(--bg-color);\n",
              "    border: none;\n",
              "    border-radius: 50%;\n",
              "    cursor: pointer;\n",
              "    display: none;\n",
              "    fill: var(--fill-color);\n",
              "    height: 32px;\n",
              "    padding: 0;\n",
              "    width: 32px;\n",
              "  }\n",
              "\n",
              "  .colab-df-quickchart:hover {\n",
              "    background-color: var(--hover-bg-color);\n",
              "    box-shadow: 0 1px 2px rgba(60, 64, 67, 0.3), 0 1px 3px 1px rgba(60, 64, 67, 0.15);\n",
              "    fill: var(--button-hover-fill-color);\n",
              "  }\n",
              "\n",
              "  .colab-df-quickchart-complete:disabled,\n",
              "  .colab-df-quickchart-complete:disabled:hover {\n",
              "    background-color: var(--disabled-bg-color);\n",
              "    fill: var(--disabled-fill-color);\n",
              "    box-shadow: none;\n",
              "  }\n",
              "\n",
              "  .colab-df-spinner {\n",
              "    border: 2px solid var(--fill-color);\n",
              "    border-color: transparent;\n",
              "    border-bottom-color: var(--fill-color);\n",
              "    animation:\n",
              "      spin 1s steps(1) infinite;\n",
              "  }\n",
              "\n",
              "  @keyframes spin {\n",
              "    0% {\n",
              "      border-color: transparent;\n",
              "      border-bottom-color: var(--fill-color);\n",
              "      border-left-color: var(--fill-color);\n",
              "    }\n",
              "    20% {\n",
              "      border-color: transparent;\n",
              "      border-left-color: var(--fill-color);\n",
              "      border-top-color: var(--fill-color);\n",
              "    }\n",
              "    30% {\n",
              "      border-color: transparent;\n",
              "      border-left-color: var(--fill-color);\n",
              "      border-top-color: var(--fill-color);\n",
              "      border-right-color: var(--fill-color);\n",
              "    }\n",
              "    40% {\n",
              "      border-color: transparent;\n",
              "      border-right-color: var(--fill-color);\n",
              "      border-top-color: var(--fill-color);\n",
              "    }\n",
              "    60% {\n",
              "      border-color: transparent;\n",
              "      border-right-color: var(--fill-color);\n",
              "    }\n",
              "    80% {\n",
              "      border-color: transparent;\n",
              "      border-right-color: var(--fill-color);\n",
              "      border-bottom-color: var(--fill-color);\n",
              "    }\n",
              "    90% {\n",
              "      border-color: transparent;\n",
              "      border-bottom-color: var(--fill-color);\n",
              "    }\n",
              "  }\n",
              "</style>\n",
              "\n",
              "  <script>\n",
              "    async function quickchart(key) {\n",
              "      const quickchartButtonEl =\n",
              "        document.querySelector('#' + key + ' button');\n",
              "      quickchartButtonEl.disabled = true;  // To prevent multiple clicks.\n",
              "      quickchartButtonEl.classList.add('colab-df-spinner');\n",
              "      try {\n",
              "        const charts = await google.colab.kernel.invokeFunction(\n",
              "            'suggestCharts', [key], {});\n",
              "      } catch (error) {\n",
              "        console.error('Error during call to suggestCharts:', error);\n",
              "      }\n",
              "      quickchartButtonEl.classList.remove('colab-df-spinner');\n",
              "      quickchartButtonEl.classList.add('colab-df-quickchart-complete');\n",
              "    }\n",
              "    (() => {\n",
              "      let quickchartButtonEl =\n",
              "        document.querySelector('#df-23a1c4c9-50a8-4106-a783-061c94482a64 button');\n",
              "      quickchartButtonEl.style.display =\n",
              "        google.colab.kernel.accessAllowed ? 'block' : 'none';\n",
              "    })();\n",
              "  </script>\n",
              "</div>\n",
              "    </div>\n",
              "  </div>\n"
            ]
          },
          "metadata": {},
          "execution_count": 20
        }
      ]
    },
    {
      "cell_type": "code",
      "source": [
        "sales_df_train_1 = sales_df_train_1.set_index('date')"
      ],
      "metadata": {
        "id": "gHGGAFcLtoTO"
      },
      "execution_count": null,
      "outputs": []
    },
    {
      "cell_type": "code",
      "source": [
        "features = sales_df_train_1.drop(['pr_sales_in_units'], axis=1)\n",
        "target = sales_df_train_1['pr_sales_in_units']"
      ],
      "metadata": {
        "id": "edvNpByDjQuQ"
      },
      "execution_count": null,
      "outputs": []
    },
    {
      "cell_type": "code",
      "source": [
        "from sklearn.model_selection import train_test_split\n",
        "feat_train, feat_test, target_train, target_test = train_test_split(features, target, test_size=0.25, shuffle=False)"
      ],
      "metadata": {
        "id": "_KBGThm8jVCc"
      },
      "execution_count": null,
      "outputs": []
    },
    {
      "cell_type": "code",
      "source": [
        "cat_cols = sales_df_train_1.select_dtypes(include='object')"
      ],
      "metadata": {
        "id": "4ORLQP6kjc8-"
      },
      "execution_count": null,
      "outputs": []
    },
    {
      "cell_type": "code",
      "source": [
        "from sklearn.preprocessing import OrdinalEncoder\n",
        "ord_enc = OrdinalEncoder().fit(feat_train[cat_cols.columns])\n",
        "feat_train[cat_cols.columns] = ord_enc.transform(feat_train[cat_cols.columns])\n",
        "feat_test[cat_cols.columns] = ord_enc.fit_transform(feat_test[cat_cols.columns])"
      ],
      "metadata": {
        "id": "aTFPeK4yjWXl"
      },
      "execution_count": null,
      "outputs": []
    },
    {
      "cell_type": "code",
      "source": [
        "from sklearn.preprocessing import StandardScaler\n",
        "scaler = StandardScaler().fit(feat_train)\n",
        "feat_train = scaler.transform(feat_train)\n",
        "feat_test = scaler.transform(feat_test)"
      ],
      "metadata": {
        "id": "uO063twQjEVR"
      },
      "execution_count": null,
      "outputs": []
    },
    {
      "cell_type": "code",
      "source": [],
      "metadata": {
        "id": "ietEA_H9lGZN"
      },
      "execution_count": null,
      "outputs": []
    },
    {
      "cell_type": "code",
      "source": [
        "from keras.preprocessing.sequence import TimeseriesGenerator\n",
        "n_input = 1\n",
        "n_features= feat_train.shape[1]\n",
        "generator = TimeseriesGenerator(feat_train, target_train, length=n_input, batch_size=1)"
      ],
      "metadata": {
        "id": "8wkLiTVRjgCb"
      },
      "execution_count": null,
      "outputs": []
    },
    {
      "cell_type": "code",
      "source": [
        "import tensorflow as tf\n",
        "from tensorflow.keras.models import Sequential\n",
        "from tensorflow.keras.layers import LSTM\n",
        "from tensorflow.keras.layers import Dense\n",
        "from tensorflow.keras.layers import Dropout\n",
        "\n",
        "from tensorflow import keras"
      ],
      "metadata": {
        "id": "perNxedAjlLP"
      },
      "execution_count": null,
      "outputs": []
    },
    {
      "cell_type": "code",
      "source": [
        "n_steps=14\n",
        "n_features=1"
      ],
      "metadata": {
        "id": "P06kRENoqKlG"
      },
      "execution_count": null,
      "outputs": []
    },
    {
      "cell_type": "code",
      "source": [],
      "metadata": {
        "id": "H8lMvCpmjmMH"
      },
      "execution_count": null,
      "outputs": []
    },
    {
      "cell_type": "code",
      "source": [
        "feat_train.shape"
      ],
      "metadata": {
        "colab": {
          "base_uri": "https://localhost:8080/"
        },
        "id": "7xU5Rla6rC84",
        "outputId": "c580603e-1329-4b9f-9b6e-562e40edbd60"
      },
      "execution_count": null,
      "outputs": [
        {
          "output_type": "execute_result",
          "data": {
            "text/plain": [
              "(18369, 23)"
            ]
          },
          "metadata": {},
          "execution_count": 110
        }
      ]
    },
    {
      "cell_type": "code",
      "source": [
        "feat_train = feat_train.reshape(feat_train.shape[0], feat_train.shape[1], n_features)"
      ],
      "metadata": {
        "id": "l-KmCuxerNmp"
      },
      "execution_count": null,
      "outputs": []
    },
    {
      "cell_type": "code",
      "source": [
        "target_train = np.array(target_train)"
      ],
      "metadata": {
        "id": "5Wfsq0njrXMW"
      },
      "execution_count": null,
      "outputs": []
    },
    {
      "cell_type": "code",
      "source": [
        "lstm_model = Sequential()\n",
        "lstm_model.add(LSTM(200, activation='relu', input_shape=(feat_train.shape[1], n_features), return_sequences=True))\n",
        "#lstm_model.add(Dropout(0.1))\n",
        "lstm_model.add(LSTM(32, activation='relu'))\n",
        "#lstm_model.add(Dropout(0.1))\n",
        "#lstm_model.add(LSTM(32, activation='relu'))\n",
        "#lstm_model.add(Dropout(0.2))\n",
        "lstm_model.add(Dense(1))\n",
        "lstm_model.compile(optimizer='adam', loss='mse', metrics=['mae'])"
      ],
      "metadata": {
        "colab": {
          "base_uri": "https://localhost:8080/"
        },
        "id": "81iY2g-Grx5N",
        "outputId": "e36926fd-808f-40b7-e61e-3b069f4bf3c7"
      },
      "execution_count": null,
      "outputs": [
        {
          "output_type": "stream",
          "name": "stderr",
          "text": [
            "WARNING:tensorflow:Layer lstm_33 will not use cuDNN kernels since it doesn't meet the criteria. It will use a generic GPU kernel as fallback when running on GPU.\n",
            "WARNING:tensorflow:Layer lstm_34 will not use cuDNN kernels since it doesn't meet the criteria. It will use a generic GPU kernel as fallback when running on GPU.\n"
          ]
        }
      ]
    },
    {
      "cell_type": "code",
      "source": [
        "lstm_model.fit(feat_train, target_train,  epochs=20)"
      ],
      "metadata": {
        "colab": {
          "base_uri": "https://localhost:8080/"
        },
        "id": "_5qzqgrrjn-j",
        "outputId": "d9618ee6-a358-4194-834f-d1201aef8249"
      },
      "execution_count": null,
      "outputs": [
        {
          "output_type": "stream",
          "name": "stdout",
          "text": [
            "Epoch 1/20\n",
            "575/575 [==============================] - 53s 84ms/step - loss: 86.4880 - mae: 4.3182\n",
            "Epoch 2/20\n",
            "575/575 [==============================] - 52s 90ms/step - loss: 72.6845 - mae: 4.0710\n",
            "Epoch 3/20\n",
            "575/575 [==============================] - 50s 88ms/step - loss: 67.1996 - mae: 3.9306\n",
            "Epoch 4/20\n",
            "575/575 [==============================] - 48s 84ms/step - loss: 57.7279 - mae: 3.5438\n",
            "Epoch 5/20\n",
            "575/575 [==============================] - 50s 87ms/step - loss: 39.5212 - mae: 2.7097\n",
            "Epoch 6/20\n",
            "575/575 [==============================] - 48s 84ms/step - loss: 75.2229 - mae: 3.8981\n",
            "Epoch 7/20\n",
            "575/575 [==============================] - 51s 90ms/step - loss: 32.2803 - mae: 2.5631\n",
            "Epoch 8/20\n",
            "575/575 [==============================] - 51s 88ms/step - loss: 22.0946 - mae: 2.1281\n",
            "Epoch 9/20\n",
            "575/575 [==============================] - 49s 85ms/step - loss: 12.2413 - mae: 1.6839\n",
            "Epoch 10/20\n",
            "575/575 [==============================] - 50s 88ms/step - loss: 12.7933 - mae: 1.6863\n",
            "Epoch 11/20\n",
            "575/575 [==============================] - 50s 87ms/step - loss: 9.8703 - mae: 1.4072\n",
            "Epoch 12/20\n",
            "575/575 [==============================] - 49s 85ms/step - loss: 9.5946 - mae: 1.3687\n",
            "Epoch 13/20\n",
            "575/575 [==============================] - 50s 87ms/step - loss: 7.5229 - mae: 1.2080\n",
            "Epoch 14/20\n",
            "575/575 [==============================] - 48s 83ms/step - loss: 7.3907 - mae: 1.2838\n",
            "Epoch 15/20\n",
            "575/575 [==============================] - 50s 86ms/step - loss: 7.0939 - mae: 1.1850\n",
            "Epoch 16/20\n",
            "575/575 [==============================] - 48s 84ms/step - loss: 5.4154 - mae: 1.0347\n",
            "Epoch 17/20\n",
            "575/575 [==============================] - 50s 88ms/step - loss: 5.1767 - mae: 1.0549\n",
            "Epoch 18/20\n",
            "575/575 [==============================] - 49s 85ms/step - loss: 4.3662 - mae: 0.9611\n",
            "Epoch 19/20\n",
            "575/575 [==============================] - 50s 86ms/step - loss: 8.1118 - mae: 1.2639\n",
            "Epoch 20/20\n",
            "575/575 [==============================] - 51s 90ms/step - loss: 3.7975 - mae: 0.8687\n"
          ]
        },
        {
          "output_type": "execute_result",
          "data": {
            "text/plain": [
              "<keras.src.callbacks.History at 0x7d9cc01d5ff0>"
            ]
          },
          "metadata": {},
          "execution_count": 146
        }
      ]
    },
    {
      "cell_type": "code",
      "source": [
        "target_test"
      ],
      "metadata": {
        "colab": {
          "base_uri": "https://localhost:8080/"
        },
        "id": "p-pMK-uDuTwK",
        "outputId": "c1cc0814-8f65-4095-ef45-08237d2f0c56"
      },
      "execution_count": null,
      "outputs": [
        {
          "output_type": "execute_result",
          "data": {
            "text/plain": [
              "date\n",
              "2022-08-09     6.0\n",
              "2022-08-09    16.0\n",
              "2022-08-09     2.0\n",
              "2022-08-09    22.0\n",
              "2022-08-09    31.0\n",
              "              ... \n",
              "2022-08-12    10.0\n",
              "2022-08-12     3.0\n",
              "2022-08-12     2.0\n",
              "2022-08-12     5.0\n",
              "2022-08-12     3.0\n",
              "Name: pr_sales_in_units, Length: 6124, dtype: float64"
            ]
          },
          "metadata": {},
          "execution_count": 126
        }
      ]
    },
    {
      "cell_type": "code",
      "source": [
        "pred = lstm_model.predict(feat_test)"
      ],
      "metadata": {
        "colab": {
          "base_uri": "https://localhost:8080/"
        },
        "id": "kIRz7qnejqa3",
        "outputId": "abd40376-8d32-4bcb-932d-d198ef9b21dd"
      },
      "execution_count": null,
      "outputs": [
        {
          "output_type": "stream",
          "name": "stdout",
          "text": [
            "192/192 [==============================] - 2s 8ms/step\n"
          ]
        }
      ]
    },
    {
      "cell_type": "code",
      "source": [
        "res = target_test.to_frame()"
      ],
      "metadata": {
        "id": "fEnxPI54wwgJ"
      },
      "execution_count": null,
      "outputs": []
    },
    {
      "cell_type": "code",
      "source": [
        "pred[:-1]"
      ],
      "metadata": {
        "colab": {
          "base_uri": "https://localhost:8080/"
        },
        "id": "EqDnIM2Sw9YZ",
        "outputId": "896d12bd-a12c-4915-be01-07f078871663"
      },
      "execution_count": null,
      "outputs": [
        {
          "output_type": "execute_result",
          "data": {
            "text/plain": [
              "array([[8.047745 ],\n",
              "       [3.2428045],\n",
              "       [0.7421061],\n",
              "       ...,\n",
              "       [1.242889 ],\n",
              "       [1.0983908],\n",
              "       [1.1600406]], dtype=float32)"
            ]
          },
          "metadata": {},
          "execution_count": 129
        }
      ]
    },
    {
      "cell_type": "code",
      "source": [
        "res['Pred'] = pred"
      ],
      "metadata": {
        "id": "jjE6NBY5w08Z"
      },
      "execution_count": null,
      "outputs": []
    },
    {
      "cell_type": "code",
      "source": [
        "res"
      ],
      "metadata": {
        "colab": {
          "base_uri": "https://localhost:8080/",
          "height": 455
        },
        "id": "uGWGyM4qxHeJ",
        "outputId": "afc29508-30f6-4599-f06d-3ec2096dda52"
      },
      "execution_count": null,
      "outputs": [
        {
          "output_type": "execute_result",
          "data": {
            "text/plain": [
              "            pr_sales_in_units       Pred\n",
              "date                                    \n",
              "2022-08-09                6.0   7.730198\n",
              "2022-08-09               16.0  17.078648\n",
              "2022-08-09                2.0   2.089826\n",
              "2022-08-09               22.0  24.721027\n",
              "2022-08-09               31.0  33.226536\n",
              "...                       ...        ...\n",
              "2022-08-12               10.0  10.373516\n",
              "2022-08-12                3.0   3.038153\n",
              "2022-08-12                2.0   1.911488\n",
              "2022-08-12                5.0   5.612679\n",
              "2022-08-12                3.0        NaN\n",
              "\n",
              "[6124 rows x 2 columns]"
            ],
            "text/html": [
              "\n",
              "  <div id=\"df-e7a2f9a1-7909-4e66-9ef5-72d3ad9e1cb5\" class=\"colab-df-container\">\n",
              "    <div>\n",
              "<style scoped>\n",
              "    .dataframe tbody tr th:only-of-type {\n",
              "        vertical-align: middle;\n",
              "    }\n",
              "\n",
              "    .dataframe tbody tr th {\n",
              "        vertical-align: top;\n",
              "    }\n",
              "\n",
              "    .dataframe thead th {\n",
              "        text-align: right;\n",
              "    }\n",
              "</style>\n",
              "<table border=\"1\" class=\"dataframe\">\n",
              "  <thead>\n",
              "    <tr style=\"text-align: right;\">\n",
              "      <th></th>\n",
              "      <th>pr_sales_in_units</th>\n",
              "      <th>Pred</th>\n",
              "    </tr>\n",
              "    <tr>\n",
              "      <th>date</th>\n",
              "      <th></th>\n",
              "      <th></th>\n",
              "    </tr>\n",
              "  </thead>\n",
              "  <tbody>\n",
              "    <tr>\n",
              "      <th>2022-08-09</th>\n",
              "      <td>6.0</td>\n",
              "      <td>7.730198</td>\n",
              "    </tr>\n",
              "    <tr>\n",
              "      <th>2022-08-09</th>\n",
              "      <td>16.0</td>\n",
              "      <td>17.078648</td>\n",
              "    </tr>\n",
              "    <tr>\n",
              "      <th>2022-08-09</th>\n",
              "      <td>2.0</td>\n",
              "      <td>2.089826</td>\n",
              "    </tr>\n",
              "    <tr>\n",
              "      <th>2022-08-09</th>\n",
              "      <td>22.0</td>\n",
              "      <td>24.721027</td>\n",
              "    </tr>\n",
              "    <tr>\n",
              "      <th>2022-08-09</th>\n",
              "      <td>31.0</td>\n",
              "      <td>33.226536</td>\n",
              "    </tr>\n",
              "    <tr>\n",
              "      <th>...</th>\n",
              "      <td>...</td>\n",
              "      <td>...</td>\n",
              "    </tr>\n",
              "    <tr>\n",
              "      <th>2022-08-12</th>\n",
              "      <td>10.0</td>\n",
              "      <td>10.373516</td>\n",
              "    </tr>\n",
              "    <tr>\n",
              "      <th>2022-08-12</th>\n",
              "      <td>3.0</td>\n",
              "      <td>3.038153</td>\n",
              "    </tr>\n",
              "    <tr>\n",
              "      <th>2022-08-12</th>\n",
              "      <td>2.0</td>\n",
              "      <td>1.911488</td>\n",
              "    </tr>\n",
              "    <tr>\n",
              "      <th>2022-08-12</th>\n",
              "      <td>5.0</td>\n",
              "      <td>5.612679</td>\n",
              "    </tr>\n",
              "    <tr>\n",
              "      <th>2022-08-12</th>\n",
              "      <td>3.0</td>\n",
              "      <td>NaN</td>\n",
              "    </tr>\n",
              "  </tbody>\n",
              "</table>\n",
              "<p>6124 rows × 2 columns</p>\n",
              "</div>\n",
              "    <div class=\"colab-df-buttons\">\n",
              "\n",
              "  <div class=\"colab-df-container\">\n",
              "    <button class=\"colab-df-convert\" onclick=\"convertToInteractive('df-e7a2f9a1-7909-4e66-9ef5-72d3ad9e1cb5')\"\n",
              "            title=\"Convert this dataframe to an interactive table.\"\n",
              "            style=\"display:none;\">\n",
              "\n",
              "  <svg xmlns=\"http://www.w3.org/2000/svg\" height=\"24px\" viewBox=\"0 -960 960 960\">\n",
              "    <path d=\"M120-120v-720h720v720H120Zm60-500h600v-160H180v160Zm220 220h160v-160H400v160Zm0 220h160v-160H400v160ZM180-400h160v-160H180v160Zm440 0h160v-160H620v160ZM180-180h160v-160H180v160Zm440 0h160v-160H620v160Z\"/>\n",
              "  </svg>\n",
              "    </button>\n",
              "\n",
              "  <style>\n",
              "    .colab-df-container {\n",
              "      display:flex;\n",
              "      gap: 12px;\n",
              "    }\n",
              "\n",
              "    .colab-df-convert {\n",
              "      background-color: #E8F0FE;\n",
              "      border: none;\n",
              "      border-radius: 50%;\n",
              "      cursor: pointer;\n",
              "      display: none;\n",
              "      fill: #1967D2;\n",
              "      height: 32px;\n",
              "      padding: 0 0 0 0;\n",
              "      width: 32px;\n",
              "    }\n",
              "\n",
              "    .colab-df-convert:hover {\n",
              "      background-color: #E2EBFA;\n",
              "      box-shadow: 0px 1px 2px rgba(60, 64, 67, 0.3), 0px 1px 3px 1px rgba(60, 64, 67, 0.15);\n",
              "      fill: #174EA6;\n",
              "    }\n",
              "\n",
              "    .colab-df-buttons div {\n",
              "      margin-bottom: 4px;\n",
              "    }\n",
              "\n",
              "    [theme=dark] .colab-df-convert {\n",
              "      background-color: #3B4455;\n",
              "      fill: #D2E3FC;\n",
              "    }\n",
              "\n",
              "    [theme=dark] .colab-df-convert:hover {\n",
              "      background-color: #434B5C;\n",
              "      box-shadow: 0px 1px 3px 1px rgba(0, 0, 0, 0.15);\n",
              "      filter: drop-shadow(0px 1px 2px rgba(0, 0, 0, 0.3));\n",
              "      fill: #FFFFFF;\n",
              "    }\n",
              "  </style>\n",
              "\n",
              "    <script>\n",
              "      const buttonEl =\n",
              "        document.querySelector('#df-e7a2f9a1-7909-4e66-9ef5-72d3ad9e1cb5 button.colab-df-convert');\n",
              "      buttonEl.style.display =\n",
              "        google.colab.kernel.accessAllowed ? 'block' : 'none';\n",
              "\n",
              "      async function convertToInteractive(key) {\n",
              "        const element = document.querySelector('#df-e7a2f9a1-7909-4e66-9ef5-72d3ad9e1cb5');\n",
              "        const dataTable =\n",
              "          await google.colab.kernel.invokeFunction('convertToInteractive',\n",
              "                                                    [key], {});\n",
              "        if (!dataTable) return;\n",
              "\n",
              "        const docLinkHtml = 'Like what you see? Visit the ' +\n",
              "          '<a target=\"_blank\" href=https://colab.research.google.com/notebooks/data_table.ipynb>data table notebook</a>'\n",
              "          + ' to learn more about interactive tables.';\n",
              "        element.innerHTML = '';\n",
              "        dataTable['output_type'] = 'display_data';\n",
              "        await google.colab.output.renderOutput(dataTable, element);\n",
              "        const docLink = document.createElement('div');\n",
              "        docLink.innerHTML = docLinkHtml;\n",
              "        element.appendChild(docLink);\n",
              "      }\n",
              "    </script>\n",
              "  </div>\n",
              "\n",
              "\n",
              "<div id=\"df-ca967b57-1f15-4658-94a0-12a86627f694\">\n",
              "  <button class=\"colab-df-quickchart\" onclick=\"quickchart('df-ca967b57-1f15-4658-94a0-12a86627f694')\"\n",
              "            title=\"Suggest charts.\"\n",
              "            style=\"display:none;\">\n",
              "\n",
              "<svg xmlns=\"http://www.w3.org/2000/svg\" height=\"24px\"viewBox=\"0 0 24 24\"\n",
              "     width=\"24px\">\n",
              "    <g>\n",
              "        <path d=\"M19 3H5c-1.1 0-2 .9-2 2v14c0 1.1.9 2 2 2h14c1.1 0 2-.9 2-2V5c0-1.1-.9-2-2-2zM9 17H7v-7h2v7zm4 0h-2V7h2v10zm4 0h-2v-4h2v4z\"/>\n",
              "    </g>\n",
              "</svg>\n",
              "  </button>\n",
              "\n",
              "<style>\n",
              "  .colab-df-quickchart {\n",
              "      --bg-color: #E8F0FE;\n",
              "      --fill-color: #1967D2;\n",
              "      --hover-bg-color: #E2EBFA;\n",
              "      --hover-fill-color: #174EA6;\n",
              "      --disabled-fill-color: #AAA;\n",
              "      --disabled-bg-color: #DDD;\n",
              "  }\n",
              "\n",
              "  [theme=dark] .colab-df-quickchart {\n",
              "      --bg-color: #3B4455;\n",
              "      --fill-color: #D2E3FC;\n",
              "      --hover-bg-color: #434B5C;\n",
              "      --hover-fill-color: #FFFFFF;\n",
              "      --disabled-bg-color: #3B4455;\n",
              "      --disabled-fill-color: #666;\n",
              "  }\n",
              "\n",
              "  .colab-df-quickchart {\n",
              "    background-color: var(--bg-color);\n",
              "    border: none;\n",
              "    border-radius: 50%;\n",
              "    cursor: pointer;\n",
              "    display: none;\n",
              "    fill: var(--fill-color);\n",
              "    height: 32px;\n",
              "    padding: 0;\n",
              "    width: 32px;\n",
              "  }\n",
              "\n",
              "  .colab-df-quickchart:hover {\n",
              "    background-color: var(--hover-bg-color);\n",
              "    box-shadow: 0 1px 2px rgba(60, 64, 67, 0.3), 0 1px 3px 1px rgba(60, 64, 67, 0.15);\n",
              "    fill: var(--button-hover-fill-color);\n",
              "  }\n",
              "\n",
              "  .colab-df-quickchart-complete:disabled,\n",
              "  .colab-df-quickchart-complete:disabled:hover {\n",
              "    background-color: var(--disabled-bg-color);\n",
              "    fill: var(--disabled-fill-color);\n",
              "    box-shadow: none;\n",
              "  }\n",
              "\n",
              "  .colab-df-spinner {\n",
              "    border: 2px solid var(--fill-color);\n",
              "    border-color: transparent;\n",
              "    border-bottom-color: var(--fill-color);\n",
              "    animation:\n",
              "      spin 1s steps(1) infinite;\n",
              "  }\n",
              "\n",
              "  @keyframes spin {\n",
              "    0% {\n",
              "      border-color: transparent;\n",
              "      border-bottom-color: var(--fill-color);\n",
              "      border-left-color: var(--fill-color);\n",
              "    }\n",
              "    20% {\n",
              "      border-color: transparent;\n",
              "      border-left-color: var(--fill-color);\n",
              "      border-top-color: var(--fill-color);\n",
              "    }\n",
              "    30% {\n",
              "      border-color: transparent;\n",
              "      border-left-color: var(--fill-color);\n",
              "      border-top-color: var(--fill-color);\n",
              "      border-right-color: var(--fill-color);\n",
              "    }\n",
              "    40% {\n",
              "      border-color: transparent;\n",
              "      border-right-color: var(--fill-color);\n",
              "      border-top-color: var(--fill-color);\n",
              "    }\n",
              "    60% {\n",
              "      border-color: transparent;\n",
              "      border-right-color: var(--fill-color);\n",
              "    }\n",
              "    80% {\n",
              "      border-color: transparent;\n",
              "      border-right-color: var(--fill-color);\n",
              "      border-bottom-color: var(--fill-color);\n",
              "    }\n",
              "    90% {\n",
              "      border-color: transparent;\n",
              "      border-bottom-color: var(--fill-color);\n",
              "    }\n",
              "  }\n",
              "</style>\n",
              "\n",
              "  <script>\n",
              "    async function quickchart(key) {\n",
              "      const quickchartButtonEl =\n",
              "        document.querySelector('#' + key + ' button');\n",
              "      quickchartButtonEl.disabled = true;  // To prevent multiple clicks.\n",
              "      quickchartButtonEl.classList.add('colab-df-spinner');\n",
              "      try {\n",
              "        const charts = await google.colab.kernel.invokeFunction(\n",
              "            'suggestCharts', [key], {});\n",
              "      } catch (error) {\n",
              "        console.error('Error during call to suggestCharts:', error);\n",
              "      }\n",
              "      quickchartButtonEl.classList.remove('colab-df-spinner');\n",
              "      quickchartButtonEl.classList.add('colab-df-quickchart-complete');\n",
              "    }\n",
              "    (() => {\n",
              "      let quickchartButtonEl =\n",
              "        document.querySelector('#df-ca967b57-1f15-4658-94a0-12a86627f694 button');\n",
              "      quickchartButtonEl.style.display =\n",
              "        google.colab.kernel.accessAllowed ? 'block' : 'none';\n",
              "    })();\n",
              "  </script>\n",
              "</div>\n",
              "    </div>\n",
              "  </div>\n"
            ]
          },
          "metadata": {},
          "execution_count": 150
        }
      ]
    },
    {
      "cell_type": "code",
      "source": [
        "import seaborn as sns"
      ],
      "metadata": {
        "id": "c9iUf3VbwIvG"
      },
      "execution_count": null,
      "outputs": []
    },
    {
      "cell_type": "code",
      "source": [
        "sns.lineplot(res)"
      ],
      "metadata": {
        "colab": {
          "base_uri": "https://localhost:8080/",
          "height": 389
        },
        "id": "YmKEcSwIwIxm",
        "outputId": "1800573c-1dfa-4e89-b95d-83271ea4e068"
      },
      "execution_count": null,
      "outputs": [
        {
          "output_type": "execute_result",
          "data": {
            "text/plain": [
              "<Axes: xlabel='date'>"
            ]
          },
          "metadata": {},
          "execution_count": 164
        },
        {
          "output_type": "display_data",
          "data": {
            "text/plain": [
              "<Figure size 1080x360 with 1 Axes>"
            ],
            "image/png": "[encoded data removed]"
          },
          "metadata": {}
        }
      ]
    },
    {
      "cell_type": "code",
      "source": [
        "def wape(y_true: np.array, y_pred: np.array):\n",
        "    return np.sum(np.abs(y_true-y_pred))/np.sum(np.abs(y_true))"
      ],
      "metadata": {
        "id": "kLFOLehZBYA4"
      },
      "execution_count": null,
      "outputs": []
    },
    {
      "cell_type": "code",
      "source": [
        "wape(res['pr_sales_in_units'], res['Pred'])"
      ],
      "metadata": {
        "colab": {
          "base_uri": "https://localhost:8080/"
        },
        "id": "56IAZ8ioBsGh",
        "outputId": "1207deb4-0c08-4d5b-8c11-11c96d797d52"
      },
      "execution_count": null,
      "outputs": [
        {
          "output_type": "execute_result",
          "data": {
            "text/plain": [
              "0.1109465966794181"
            ]
          },
          "metadata": {},
          "execution_count": 182
        }
      ]
    },
    {
      "cell_type": "code",
      "source": [],
      "metadata": {
        "id": "PIYGInPXC1NI"
      },
      "execution_count": null,
      "outputs": []
    }
  ]
}