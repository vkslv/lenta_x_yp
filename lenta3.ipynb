{
  "nbformat": 4,
  "nbformat_minor": 0,
  "metadata": {
    "colab": {
      "provenance": []
    },
    "kernelspec": {
      "name": "python3",
      "display_name": "Python 3"
    },
    "language_info": {
      "name": "python"
    }
  },
  "cells": [
    {
      "cell_type": "code",
      "execution_count": 1,
      "metadata": {
        "id": "s0p0PEoIXYVn"
      },
      "outputs": [],
      "source": [
        "# from google.colab import drive\n",
        "# drive.mount('/content/drive')"
      ]
    },
    {
      "cell_type": "code",
      "source": [
        "import pandas as pd\n",
        "import matplotlib.pyplot as plt\n",
        "import seaborn as sns\n",
        "import numpy as np\n",
        "import warnings\n",
        "\n",
        "warnings.filterwarnings('ignore')"
      ],
      "metadata": {
        "id": "jDxhMNLuXdYa"
      },
      "execution_count": 2,
      "outputs": []
    },
    {
      "cell_type": "code",
      "source": [
        "# данные по магазинам\n",
        "st_df = pd.read_csv(r'/content/drive/MyDrive/sp_sales_task/st_df.csv')\n",
        "\n",
        "# данные по иерархии товаров\n",
        "pr_df = pd.read_csv(r'/content/drive/MyDrive/sp_sales_task/pr_df.csv')\n",
        "\n",
        "# данные по продажам\n",
        "sales_df_train = pd.read_csv(r'/content/drive/MyDrive/sp_sales_task/sales_df_train.csv')\n",
        "\n",
        "# календарь\n",
        "calendar = pd.read_csv(r'/content/drive/MyDrive/sp_sales_task/holidays_covid_calendar.csv')"
      ],
      "metadata": {
        "id": "gRBz6jYeXowL"
      },
      "execution_count": 3,
      "outputs": []
    },
    {
      "cell_type": "code",
      "source": [
        "# мерджим флаг активности\n",
        "sales_df_train = pd.merge(sales_df_train, st_df[['st_id','st_is_active']], on='st_id', how='left')"
      ],
      "metadata": {
        "id": "yjQE7xZUXrkZ"
      },
      "execution_count": 4,
      "outputs": []
    },
    {
      "cell_type": "code",
      "source": [
        "# выбираем только рабочие магазины\n",
        "sales_df_train = sales_df_train[sales_df_train['st_is_active'] == 1]"
      ],
      "metadata": {
        "id": "ZYqLs0Z_XuZA"
      },
      "execution_count": 5,
      "outputs": []
    },
    {
      "cell_type": "code",
      "source": [
        "# избавляемся от возвратных позиций\n",
        "sales_df_train = sales_df_train[sales_df_train['pr_sales_in_rub'] >= 0]"
      ],
      "metadata": {
        "id": "K9Ee8ylfXwWN"
      },
      "execution_count": 6,
      "outputs": []
    },
    {
      "cell_type": "code",
      "source": [
        "sales_df_train.shape"
      ],
      "metadata": {
        "colab": {
          "base_uri": "https://localhost:8080/"
        },
        "id": "vdqEanN6YK2D",
        "outputId": "f46ee2b1-99f6-41bc-a869-7c89287d6e47"
      },
      "execution_count": 7,
      "outputs": [
        {
          "output_type": "execute_result",
          "data": {
            "text/plain": [
              "(882208, 9)"
            ]
          },
          "metadata": {},
          "execution_count": 7
        }
      ]
    },
    {
      "cell_type": "code",
      "source": [
        "sales_df_train_1 = sales_df_train[(sales_df_train['pr_sales_in_units'] != 0) |\n",
        "                                  (sales_df_train['pr_sales_in_rub'] != 0)]"
      ],
      "metadata": {
        "id": "cmgBVZR1YasD"
      },
      "execution_count": 8,
      "outputs": []
    },
    {
      "cell_type": "code",
      "source": [
        "gr_sales_df_train_1 = sales_df_train_1.groupby(['st_id', 'pr_sku_id', 'pr_sales_type_id'])[['pr_sales_in_rub', 'pr_sales_in_units']].median().reset_index()\n",
        "\n",
        "# Рассчитайте среднюю цену как отношение суммы продаж к общему количеству проданных товаров\n",
        "gr_sales_df_train_1['median'] = gr_sales_df_train_1['pr_sales_in_rub'] / gr_sales_df_train_1['pr_sales_in_units']\n",
        "\n",
        "gr_sales_df_train_1"
      ],
      "metadata": {
        "colab": {
          "base_uri": "https://localhost:8080/",
          "height": 424
        },
        "id": "4g7Z6l56Xze8",
        "outputId": "d698ba00-5da7-4673-cd5f-092849e6ce5b"
      },
      "execution_count": 9,
      "outputs": [
        {
          "output_type": "execute_result",
          "data": {
            "text/plain": [
              "                                  st_id                         pr_sku_id  \\\n",
              "0      084a8a9aa8cced9175bd07bc44998e75  0376a60d9a7ce7965beddc4815588697   \n",
              "1      084a8a9aa8cced9175bd07bc44998e75  0376a60d9a7ce7965beddc4815588697   \n",
              "2      084a8a9aa8cced9175bd07bc44998e75  61ede1b712ff37c91101eed14b7a6c4f   \n",
              "3      084a8a9aa8cced9175bd07bc44998e75  88feeeb024d3f69da7322d76b7b53744   \n",
              "4      084a8a9aa8cced9175bd07bc44998e75  88feeeb024d3f69da7322d76b7b53744   \n",
              "...                                 ...                               ...   \n",
              "11691  fa7cdfad1a5aaf8370ebeda47a1ff1c3  ff1f1e5d2708809c03d03ff8b689030b   \n",
              "11692  fa7cdfad1a5aaf8370ebeda47a1ff1c3  ff5cb535afe362f766ca6bd5d8e92e88   \n",
              "11693  fa7cdfad1a5aaf8370ebeda47a1ff1c3  ff5cb535afe362f766ca6bd5d8e92e88   \n",
              "11694  fa7cdfad1a5aaf8370ebeda47a1ff1c3  ff62e7bffaca5e0ac8029cd29298c8c3   \n",
              "11695  fa7cdfad1a5aaf8370ebeda47a1ff1c3  ff62e7bffaca5e0ac8029cd29298c8c3   \n",
              "\n",
              "       pr_sales_type_id  pr_sales_in_rub  pr_sales_in_units  median  \n",
              "0                     0            146.0                1.0   146.0  \n",
              "1                     1             81.0                1.0    81.0  \n",
              "2                     1            120.0                1.0   120.0  \n",
              "3                     0            165.0                1.0   165.0  \n",
              "4                     1            120.0                1.0   120.0  \n",
              "...                 ...              ...                ...     ...  \n",
              "11691                 1             29.0                2.0    14.5  \n",
              "11692                 0             76.0                2.0    38.0  \n",
              "11693                 1             22.5                0.5    45.0  \n",
              "11694                 0             59.0                2.0    29.5  \n",
              "11695                 1             51.0                2.0    25.5  \n",
              "\n",
              "[11696 rows x 6 columns]"
            ],
            "text/html": [
              "\n",
              "  <div id=\"df-fb745928-b0f3-45ae-ae5b-fb35dce67fa8\" class=\"colab-df-container\">\n",
              "    <div>\n",
              "<style scoped>\n",
              "    .dataframe tbody tr th:only-of-type {\n",
              "        vertical-align: middle;\n",
              "    }\n",
              "\n",
              "    .dataframe tbody tr th {\n",
              "        vertical-align: top;\n",
              "    }\n",
              "\n",
              "    .dataframe thead th {\n",
              "        text-align: right;\n",
              "    }\n",
              "</style>\n",
              "<table border=\"1\" class=\"dataframe\">\n",
              "  <thead>\n",
              "    <tr style=\"text-align: right;\">\n",
              "      <th></th>\n",
              "      <th>st_id</th>\n",
              "      <th>pr_sku_id</th>\n",
              "      <th>pr_sales_type_id</th>\n",
              "      <th>pr_sales_in_rub</th>\n",
              "      <th>pr_sales_in_units</th>\n",
              "      <th>median</th>\n",
              "    </tr>\n",
              "  </thead>\n",
              "  <tbody>\n",
              "    <tr>\n",
              "      <th>0</th>\n",
              "      <td>084a8a9aa8cced9175bd07bc44998e75</td>\n",
              "      <td>0376a60d9a7ce7965beddc4815588697</td>\n",
              "      <td>0</td>\n",
              "      <td>146.0</td>\n",
              "      <td>1.0</td>\n",
              "      <td>146.0</td>\n",
              "    </tr>\n",
              "    <tr>\n",
              "      <th>1</th>\n",
              "      <td>084a8a9aa8cced9175bd07bc44998e75</td>\n",
              "      <td>0376a60d9a7ce7965beddc4815588697</td>\n",
              "      <td>1</td>\n",
              "      <td>81.0</td>\n",
              "      <td>1.0</td>\n",
              "      <td>81.0</td>\n",
              "    </tr>\n",
              "    <tr>\n",
              "      <th>2</th>\n",
              "      <td>084a8a9aa8cced9175bd07bc44998e75</td>\n",
              "      <td>61ede1b712ff37c91101eed14b7a6c4f</td>\n",
              "      <td>1</td>\n",
              "      <td>120.0</td>\n",
              "      <td>1.0</td>\n",
              "      <td>120.0</td>\n",
              "    </tr>\n",
              "    <tr>\n",
              "      <th>3</th>\n",
              "      <td>084a8a9aa8cced9175bd07bc44998e75</td>\n",
              "      <td>88feeeb024d3f69da7322d76b7b53744</td>\n",
              "      <td>0</td>\n",
              "      <td>165.0</td>\n",
              "      <td>1.0</td>\n",
              "      <td>165.0</td>\n",
              "    </tr>\n",
              "    <tr>\n",
              "      <th>4</th>\n",
              "      <td>084a8a9aa8cced9175bd07bc44998e75</td>\n",
              "      <td>88feeeb024d3f69da7322d76b7b53744</td>\n",
              "      <td>1</td>\n",
              "      <td>120.0</td>\n",
              "      <td>1.0</td>\n",
              "      <td>120.0</td>\n",
              "    </tr>\n",
              "    <tr>\n",
              "      <th>...</th>\n",
              "      <td>...</td>\n",
              "      <td>...</td>\n",
              "      <td>...</td>\n",
              "      <td>...</td>\n",
              "      <td>...</td>\n",
              "      <td>...</td>\n",
              "    </tr>\n",
              "    <tr>\n",
              "      <th>11691</th>\n",
              "      <td>fa7cdfad1a5aaf8370ebeda47a1ff1c3</td>\n",
              "      <td>ff1f1e5d2708809c03d03ff8b689030b</td>\n",
              "      <td>1</td>\n",
              "      <td>29.0</td>\n",
              "      <td>2.0</td>\n",
              "      <td>14.5</td>\n",
              "    </tr>\n",
              "    <tr>\n",
              "      <th>11692</th>\n",
              "      <td>fa7cdfad1a5aaf8370ebeda47a1ff1c3</td>\n",
              "      <td>ff5cb535afe362f766ca6bd5d8e92e88</td>\n",
              "      <td>0</td>\n",
              "      <td>76.0</td>\n",
              "      <td>2.0</td>\n",
              "      <td>38.0</td>\n",
              "    </tr>\n",
              "    <tr>\n",
              "      <th>11693</th>\n",
              "      <td>fa7cdfad1a5aaf8370ebeda47a1ff1c3</td>\n",
              "      <td>ff5cb535afe362f766ca6bd5d8e92e88</td>\n",
              "      <td>1</td>\n",
              "      <td>22.5</td>\n",
              "      <td>0.5</td>\n",
              "      <td>45.0</td>\n",
              "    </tr>\n",
              "    <tr>\n",
              "      <th>11694</th>\n",
              "      <td>fa7cdfad1a5aaf8370ebeda47a1ff1c3</td>\n",
              "      <td>ff62e7bffaca5e0ac8029cd29298c8c3</td>\n",
              "      <td>0</td>\n",
              "      <td>59.0</td>\n",
              "      <td>2.0</td>\n",
              "      <td>29.5</td>\n",
              "    </tr>\n",
              "    <tr>\n",
              "      <th>11695</th>\n",
              "      <td>fa7cdfad1a5aaf8370ebeda47a1ff1c3</td>\n",
              "      <td>ff62e7bffaca5e0ac8029cd29298c8c3</td>\n",
              "      <td>1</td>\n",
              "      <td>51.0</td>\n",
              "      <td>2.0</td>\n",
              "      <td>25.5</td>\n",
              "    </tr>\n",
              "  </tbody>\n",
              "</table>\n",
              "<p>11696 rows × 6 columns</p>\n",
              "</div>\n",
              "    <div class=\"colab-df-buttons\">\n",
              "\n",
              "  <div class=\"colab-df-container\">\n",
              "    <button class=\"colab-df-convert\" onclick=\"convertToInteractive('df-fb745928-b0f3-45ae-ae5b-fb35dce67fa8')\"\n",
              "            title=\"Convert this dataframe to an interactive table.\"\n",
              "            style=\"display:none;\">\n",
              "\n",
              "  <svg xmlns=\"http://www.w3.org/2000/svg\" height=\"24px\" viewBox=\"0 -960 960 960\">\n",
              "    <path d=\"M120-120v-720h720v720H120Zm60-500h600v-160H180v160Zm220 220h160v-160H400v160Zm0 220h160v-160H400v160ZM180-400h160v-160H180v160Zm440 0h160v-160H620v160ZM180-180h160v-160H180v160Zm440 0h160v-160H620v160Z\"/>\n",
              "  </svg>\n",
              "    </button>\n",
              "\n",
              "  <style>\n",
              "    .colab-df-container {\n",
              "      display:flex;\n",
              "      gap: 12px;\n",
              "    }\n",
              "\n",
              "    .colab-df-convert {\n",
              "      background-color: #E8F0FE;\n",
              "      border: none;\n",
              "      border-radius: 50%;\n",
              "      cursor: pointer;\n",
              "      display: none;\n",
              "      fill: #1967D2;\n",
              "      height: 32px;\n",
              "      padding: 0 0 0 0;\n",
              "      width: 32px;\n",
              "    }\n",
              "\n",
              "    .colab-df-convert:hover {\n",
              "      background-color: #E2EBFA;\n",
              "      box-shadow: 0px 1px 2px rgba(60, 64, 67, 0.3), 0px 1px 3px 1px rgba(60, 64, 67, 0.15);\n",
              "      fill: #174EA6;\n",
              "    }\n",
              "\n",
              "    .colab-df-buttons div {\n",
              "      margin-bottom: 4px;\n",
              "    }\n",
              "\n",
              "    [theme=dark] .colab-df-convert {\n",
              "      background-color: #3B4455;\n",
              "      fill: #D2E3FC;\n",
              "    }\n",
              "\n",
              "    [theme=dark] .colab-df-convert:hover {\n",
              "      background-color: #434B5C;\n",
              "      box-shadow: 0px 1px 3px 1px rgba(0, 0, 0, 0.15);\n",
              "      filter: drop-shadow(0px 1px 2px rgba(0, 0, 0, 0.3));\n",
              "      fill: #FFFFFF;\n",
              "    }\n",
              "  </style>\n",
              "\n",
              "    <script>\n",
              "      const buttonEl =\n",
              "        document.querySelector('#df-fb745928-b0f3-45ae-ae5b-fb35dce67fa8 button.colab-df-convert');\n",
              "      buttonEl.style.display =\n",
              "        google.colab.kernel.accessAllowed ? 'block' : 'none';\n",
              "\n",
              "      async function convertToInteractive(key) {\n",
              "        const element = document.querySelector('#df-fb745928-b0f3-45ae-ae5b-fb35dce67fa8');\n",
              "        const dataTable =\n",
              "          await google.colab.kernel.invokeFunction('convertToInteractive',\n",
              "                                                    [key], {});\n",
              "        if (!dataTable) return;\n",
              "\n",
              "        const docLinkHtml = 'Like what you see? Visit the ' +\n",
              "          '<a target=\"_blank\" href=https://colab.research.google.com/notebooks/data_table.ipynb>data table notebook</a>'\n",
              "          + ' to learn more about interactive tables.';\n",
              "        element.innerHTML = '';\n",
              "        dataTable['output_type'] = 'display_data';\n",
              "        await google.colab.output.renderOutput(dataTable, element);\n",
              "        const docLink = document.createElement('div');\n",
              "        docLink.innerHTML = docLinkHtml;\n",
              "        element.appendChild(docLink);\n",
              "      }\n",
              "    </script>\n",
              "  </div>\n",
              "\n",
              "\n",
              "<div id=\"df-275b7810-fad0-46c4-9d61-389306e43000\">\n",
              "  <button class=\"colab-df-quickchart\" onclick=\"quickchart('df-275b7810-fad0-46c4-9d61-389306e43000')\"\n",
              "            title=\"Suggest charts.\"\n",
              "            style=\"display:none;\">\n",
              "\n",
              "<svg xmlns=\"http://www.w3.org/2000/svg\" height=\"24px\"viewBox=\"0 0 24 24\"\n",
              "     width=\"24px\">\n",
              "    <g>\n",
              "        <path d=\"M19 3H5c-1.1 0-2 .9-2 2v14c0 1.1.9 2 2 2h14c1.1 0 2-.9 2-2V5c0-1.1-.9-2-2-2zM9 17H7v-7h2v7zm4 0h-2V7h2v10zm4 0h-2v-4h2v4z\"/>\n",
              "    </g>\n",
              "</svg>\n",
              "  </button>\n",
              "\n",
              "<style>\n",
              "  .colab-df-quickchart {\n",
              "      --bg-color: #E8F0FE;\n",
              "      --fill-color: #1967D2;\n",
              "      --hover-bg-color: #E2EBFA;\n",
              "      --hover-fill-color: #174EA6;\n",
              "      --disabled-fill-color: #AAA;\n",
              "      --disabled-bg-color: #DDD;\n",
              "  }\n",
              "\n",
              "  [theme=dark] .colab-df-quickchart {\n",
              "      --bg-color: #3B4455;\n",
              "      --fill-color: #D2E3FC;\n",
              "      --hover-bg-color: #434B5C;\n",
              "      --hover-fill-color: #FFFFFF;\n",
              "      --disabled-bg-color: #3B4455;\n",
              "      --disabled-fill-color: #666;\n",
              "  }\n",
              "\n",
              "  .colab-df-quickchart {\n",
              "    background-color: var(--bg-color);\n",
              "    border: none;\n",
              "    border-radius: 50%;\n",
              "    cursor: pointer;\n",
              "    display: none;\n",
              "    fill: var(--fill-color);\n",
              "    height: 32px;\n",
              "    padding: 0;\n",
              "    width: 32px;\n",
              "  }\n",
              "\n",
              "  .colab-df-quickchart:hover {\n",
              "    background-color: var(--hover-bg-color);\n",
              "    box-shadow: 0 1px 2px rgba(60, 64, 67, 0.3), 0 1px 3px 1px rgba(60, 64, 67, 0.15);\n",
              "    fill: var(--button-hover-fill-color);\n",
              "  }\n",
              "\n",
              "  .colab-df-quickchart-complete:disabled,\n",
              "  .colab-df-quickchart-complete:disabled:hover {\n",
              "    background-color: var(--disabled-bg-color);\n",
              "    fill: var(--disabled-fill-color);\n",
              "    box-shadow: none;\n",
              "  }\n",
              "\n",
              "  .colab-df-spinner {\n",
              "    border: 2px solid var(--fill-color);\n",
              "    border-color: transparent;\n",
              "    border-bottom-color: var(--fill-color);\n",
              "    animation:\n",
              "      spin 1s steps(1) infinite;\n",
              "  }\n",
              "\n",
              "  @keyframes spin {\n",
              "    0% {\n",
              "      border-color: transparent;\n",
              "      border-bottom-color: var(--fill-color);\n",
              "      border-left-color: var(--fill-color);\n",
              "    }\n",
              "    20% {\n",
              "      border-color: transparent;\n",
              "      border-left-color: var(--fill-color);\n",
              "      border-top-color: var(--fill-color);\n",
              "    }\n",
              "    30% {\n",
              "      border-color: transparent;\n",
              "      border-left-color: var(--fill-color);\n",
              "      border-top-color: var(--fill-color);\n",
              "      border-right-color: var(--fill-color);\n",
              "    }\n",
              "    40% {\n",
              "      border-color: transparent;\n",
              "      border-right-color: var(--fill-color);\n",
              "      border-top-color: var(--fill-color);\n",
              "    }\n",
              "    60% {\n",
              "      border-color: transparent;\n",
              "      border-right-color: var(--fill-color);\n",
              "    }\n",
              "    80% {\n",
              "      border-color: transparent;\n",
              "      border-right-color: var(--fill-color);\n",
              "      border-bottom-color: var(--fill-color);\n",
              "    }\n",
              "    90% {\n",
              "      border-color: transparent;\n",
              "      border-bottom-color: var(--fill-color);\n",
              "    }\n",
              "  }\n",
              "</style>\n",
              "\n",
              "  <script>\n",
              "    async function quickchart(key) {\n",
              "      const quickchartButtonEl =\n",
              "        document.querySelector('#' + key + ' button');\n",
              "      quickchartButtonEl.disabled = true;  // To prevent multiple clicks.\n",
              "      quickchartButtonEl.classList.add('colab-df-spinner');\n",
              "      try {\n",
              "        const charts = await google.colab.kernel.invokeFunction(\n",
              "            'suggestCharts', [key], {});\n",
              "      } catch (error) {\n",
              "        console.error('Error during call to suggestCharts:', error);\n",
              "      }\n",
              "      quickchartButtonEl.classList.remove('colab-df-spinner');\n",
              "      quickchartButtonEl.classList.add('colab-df-quickchart-complete');\n",
              "    }\n",
              "    (() => {\n",
              "      let quickchartButtonEl =\n",
              "        document.querySelector('#df-275b7810-fad0-46c4-9d61-389306e43000 button');\n",
              "      quickchartButtonEl.style.display =\n",
              "        google.colab.kernel.accessAllowed ? 'block' : 'none';\n",
              "    })();\n",
              "  </script>\n",
              "</div>\n",
              "    </div>\n",
              "  </div>\n"
            ]
          },
          "metadata": {},
          "execution_count": 9
        }
      ]
    },
    {
      "cell_type": "code",
      "source": [
        "sales_df_train_1 = pd.merge(sales_df_train_1, gr_sales_df_train_1[['st_id', 'pr_sku_id', 'pr_sales_type_id', 'median']],\n",
        "                            on=['st_id', 'pr_sku_id', 'pr_sales_type_id'], how='left')"
      ],
      "metadata": {
        "id": "Cy6yXzPSY-BV"
      },
      "execution_count": 10,
      "outputs": []
    },
    {
      "cell_type": "code",
      "source": [
        "# выводим описательную статистику\n",
        "sales_df_train_1[sales_df_train_1['pr_sales_type_id'] == 0]['pr_sales_in_rub'].describe()"
      ],
      "metadata": {
        "colab": {
          "base_uri": "https://localhost:8080/"
        },
        "id": "bsW7CLMjZ1C3",
        "outputId": "27a7312b-488e-4e37-c014-7e6b81d7dbc6"
      },
      "execution_count": 11,
      "outputs": [
        {
          "output_type": "execute_result",
          "data": {
            "text/plain": [
              "count    523306.000000\n",
              "mean        509.415814\n",
              "std        1035.687848\n",
              "min           0.000000\n",
              "25%         115.000000\n",
              "50%         245.000000\n",
              "75%         531.000000\n",
              "max      169379.000000\n",
              "Name: pr_sales_in_rub, dtype: float64"
            ]
          },
          "metadata": {},
          "execution_count": 11
        }
      ]
    },
    {
      "cell_type": "code",
      "source": [
        "# описательная статистика продаж с промо\n",
        "sales_df_train_1[sales_df_train_1['pr_sales_type_id'] == 1]['pr_sales_in_rub'].describe()"
      ],
      "metadata": {
        "colab": {
          "base_uri": "https://localhost:8080/"
        },
        "id": "jKGzOfn_aJIZ",
        "outputId": "00249d3a-991b-4750-ed7f-65c61763bcac"
      },
      "execution_count": 12,
      "outputs": [
        {
          "output_type": "execute_result",
          "data": {
            "text/plain": [
              "count    358449.000000\n",
              "mean        726.148370\n",
              "std        2129.338579\n",
              "min           0.000000\n",
              "25%          78.000000\n",
              "50%         192.000000\n",
              "75%         563.000000\n",
              "max      183265.000000\n",
              "Name: pr_sales_in_rub, dtype: float64"
            ]
          },
          "metadata": {},
          "execution_count": 12
        }
      ]
    },
    {
      "cell_type": "code",
      "source": [
        "print('Обычные продажи в %:', round(sales_df_train_1['pr_sales_type_id'].value_counts()[0]/len(sales_df_train_1) * 100))\n",
        "print('Промо продажи в %:', round(sales_df_train_1['pr_sales_type_id'].value_counts()[1]/len(sales_df_train_1) * 100))"
      ],
      "metadata": {
        "colab": {
          "base_uri": "https://localhost:8080/"
        },
        "id": "yvVYqBLVaNQt",
        "outputId": "eabd6ec8-8e72-476d-841d-47adf0bd5b82"
      },
      "execution_count": 13,
      "outputs": [
        {
          "output_type": "stream",
          "name": "stdout",
          "text": [
            "Обычные продажи в %: 59\n",
            "Промо продажи в %: 41\n"
          ]
        }
      ]
    },
    {
      "cell_type": "code",
      "source": [
        "# гистограммы\n",
        "sns.distplot(sales_df_train_1[sales_df_train_1['pr_sales_type_id'] == 1]['pr_sales_in_rub'],\n",
        "             label='С промо', color='red', bins=30)\n",
        "\n",
        "sns.distplot(sales_df_train_1[sales_df_train_1['pr_sales_type_id'] == 0]['pr_sales_in_rub'],\n",
        "             label='Без промо', color='black', bins=30)\n",
        "\n",
        "plt.xlabel('Продажи в рублях')\n",
        "plt.title('Гистограммы продаж с/без промо')\n",
        "plt.xlim(0, 10000)\n",
        "plt.legend()\n",
        "plt.show()"
      ],
      "metadata": {
        "colab": {
          "base_uri": "https://localhost:8080/",
          "height": 472
        },
        "id": "wj5wKWLVaTr8",
        "outputId": "5ae6f28c-e01d-4064-b9c3-d72e5bc6da9e"
      },
      "execution_count": 14,
      "outputs": [
        {
          "output_type": "display_data",
          "data": {
            "text/plain": [
              "<Figure size 640x480 with 1 Axes>"
            ],
            "image/png": "[encoded data removed]"
          },
          "metadata": {}
        }
      ]
    },
    {
      "cell_type": "code",
      "source": [
        "# диаграммы размаха\n",
        "fig, ax = plt.subplots()\n",
        "\n",
        "ax.boxplot(sales_df_train_1[sales_df_train_1['pr_sales_type_id'] == 0]['pr_sales_in_rub'],\n",
        "           positions=[1], labels=['Без промо'])\n",
        "\n",
        "ax.boxplot(sales_df_train_1[sales_df_train_1['pr_sales_type_id'] == 1]['pr_sales_in_rub'],\n",
        "           positions=[2], labels=['С промо'])\n",
        "\n",
        "ax.set_xlabel('Типы продаж')\n",
        "ax.set_title('Диаграммы размаха продаж с/без промо')\n",
        "plt.show()"
      ],
      "metadata": {
        "colab": {
          "base_uri": "https://localhost:8080/",
          "height": 472
        },
        "id": "OloP-6WhaXOn",
        "outputId": "7e6fb6b6-c45d-473d-aea1-ddbb700b28b0"
      },
      "execution_count": 15,
      "outputs": [
        {
          "output_type": "display_data",
          "data": {
            "text/plain": [
              "<Figure size 640x480 with 1 Axes>"
            ],
            "image/png": "[encoded data removed]"
          },
          "metadata": {}
        }
      ]
    },
    {
      "cell_type": "code",
      "source": [
        "# небольшие махинации для дальнейшего метода merge\n",
        "sales_df_train_1.drop(columns='st_is_active', inplace=True)\n",
        "calendar['calday'] = calendar['calday'].astype(str)\n",
        "sales_df_train_1['date'] = pd.to_datetime(sales_df_train_1['date']).dt.strftime('%Y%m%d')"
      ],
      "metadata": {
        "id": "a_dUpy9EabQA"
      },
      "execution_count": 16,
      "outputs": []
    },
    {
      "cell_type": "code",
      "source": [
        "sales_df_train_1 = pd.merge(sales_df_train_1, calendar, left_on='date',\n",
        "                          right_on='calday', how='left')"
      ],
      "metadata": {
        "id": "kq6wSWBZaeKY"
      },
      "execution_count": 17,
      "outputs": []
    },
    {
      "cell_type": "code",
      "source": [
        "# приводим в приличный вид\n",
        "sales_df_train_1.drop(columns='date_y', inplace=True)\n",
        "sales_df_train_1.rename(columns={'date_x':'date'}, inplace=True)"
      ],
      "metadata": {
        "id": "MHF0LdHLahuS"
      },
      "execution_count": 18,
      "outputs": []
    },
    {
      "cell_type": "code",
      "source": [
        "# группируем данные по праздникам\n",
        "holiday_comparison = sales_df_train_1.groupby('holiday').agg({'pr_sales_in_units':'sum', 'pr_sales_in_rub':'sum'}).reset_index()"
      ],
      "metadata": {
        "id": "TN_QEpQSakT0"
      },
      "execution_count": 19,
      "outputs": []
    },
    {
      "cell_type": "code",
      "source": [
        "print('На праздники приходится около {0:.2%} продаж (в шт.)'.format(holiday_comparison['pr_sales_in_units'][1] / holiday_comparison['pr_sales_in_units'].sum()))"
      ],
      "metadata": {
        "colab": {
          "base_uri": "https://localhost:8080/"
        },
        "id": "wDQpRp7NanAl",
        "outputId": "805f97bd-ebc2-4702-bf84-72ba8b08407b"
      },
      "execution_count": 20,
      "outputs": [
        {
          "output_type": "stream",
          "name": "stdout",
          "text": [
            "На праздники приходится около 38.36% продаж (в шт.)\n"
          ]
        }
      ]
    },
    {
      "cell_type": "code",
      "source": [
        "# добавляем фич с номером месяца\n",
        "sales_df_train_1['month'] = sales_df_train_1['calday'].str[4:6]"
      ],
      "metadata": {
        "id": "xbNUPFVYapHx"
      },
      "execution_count": 21,
      "outputs": []
    },
    {
      "cell_type": "code",
      "source": [
        "# добавляем фичи с товарной иерархией\n",
        "sales_df_train_1 = pd.merge(sales_df_train_1, pr_df, on='pr_sku_id', how='left')"
      ],
      "metadata": {
        "id": "AgSWx1gNa4MO"
      },
      "execution_count": 22,
      "outputs": []
    },
    {
      "cell_type": "code",
      "source": [
        "# добавляем фичи с данными по магазинам\n",
        "sales_df_train_1 = pd.merge(sales_df_train_1, st_df, on='st_id', how='left')"
      ],
      "metadata": {
        "id": "Q8zahVFIbAlK"
      },
      "execution_count": 23,
      "outputs": []
    },
    {
      "cell_type": "code",
      "source": [
        "# продажи по месяцам\n",
        "month_sales = sales_df_train_1.groupby(['year', 'month']).agg({'pr_sales_in_units':'sum'}).reset_index()"
      ],
      "metadata": {
        "id": "zE8PaKihbDZV"
      },
      "execution_count": 24,
      "outputs": []
    },
    {
      "cell_type": "code",
      "source": [
        "plt.figure(figsize=(8, 4))\n",
        "plt.bar(month_sales['month'], month_sales['pr_sales_in_units'], color='black')\n",
        "plt.title(\"Сумма продаж за 22-23г. (в шт.)\")\n",
        "plt.xlabel(\"Месяц\")\n",
        "plt.ylabel(\"Кол-во товара\")"
      ],
      "metadata": {
        "colab": {
          "base_uri": "https://localhost:8080/",
          "height": 428
        },
        "id": "JDM9_59cbGAy",
        "outputId": "26fe9dd2-ab87-4ef6-967a-f2169b3fc426"
      },
      "execution_count": 25,
      "outputs": [
        {
          "output_type": "execute_result",
          "data": {
            "text/plain": [
              "Text(0, 0.5, 'Кол-во товара')"
            ]
          },
          "metadata": {},
          "execution_count": 25
        },
        {
          "output_type": "display_data",
          "data": {
            "text/plain": [
              "<Figure size 800x400 with 1 Axes>"
            ],
            "image/png": "[encoded data removed]"
          },
          "metadata": {}
        }
      ]
    },
    {
      "cell_type": "code",
      "source": [
        "sales_df_train_1.info()"
      ],
      "metadata": {
        "colab": {
          "base_uri": "https://localhost:8080/"
        },
        "id": "nSowyB22b5IJ",
        "outputId": "c268a1d9-4e40-4ea0-fc2d-6ea904080367"
      },
      "execution_count": 26,
      "outputs": [
        {
          "output_type": "stream",
          "name": "stdout",
          "text": [
            "<class 'pandas.core.frame.DataFrame'>\n",
            "Int64Index: 881755 entries, 0 to 881754\n",
            "Data columns (total 26 columns):\n",
            " #   Column                   Non-Null Count   Dtype  \n",
            "---  ------                   --------------   -----  \n",
            " 0   st_id                    881755 non-null  object \n",
            " 1   pr_sku_id                881755 non-null  object \n",
            " 2   date                     881755 non-null  object \n",
            " 3   pr_sales_type_id         881755 non-null  int64  \n",
            " 4   pr_sales_in_units        881755 non-null  float64\n",
            " 5   pr_promo_sales_in_units  881755 non-null  float64\n",
            " 6   pr_sales_in_rub          881755 non-null  float64\n",
            " 7   pr_promo_sales_in_rub    881755 non-null  float64\n",
            " 8   median                   881755 non-null  float64\n",
            " 9   year                     881755 non-null  int64  \n",
            " 10  day                      881755 non-null  int64  \n",
            " 11  weekday                  881755 non-null  int64  \n",
            " 12  calday                   881755 non-null  object \n",
            " 13  holiday                  881755 non-null  int64  \n",
            " 14  covid                    881755 non-null  int64  \n",
            " 15  month                    881755 non-null  object \n",
            " 16  pr_group_id              881755 non-null  object \n",
            " 17  pr_cat_id                881755 non-null  object \n",
            " 18  pr_subcat_id             881755 non-null  object \n",
            " 19  pr_uom_id                881755 non-null  int64  \n",
            " 20  st_city_id               881755 non-null  object \n",
            " 21  st_division_code         881755 non-null  object \n",
            " 22  st_type_format_id        881755 non-null  int64  \n",
            " 23  st_type_loc_id           881755 non-null  int64  \n",
            " 24  st_type_size_id          881755 non-null  int64  \n",
            " 25  st_is_active             881755 non-null  int64  \n",
            "dtypes: float64(5), int64(11), object(10)\n",
            "memory usage: 181.6+ MB\n"
          ]
        }
      ]
    },
    {
      "cell_type": "markdown",
      "source": [
        "---"
      ],
      "metadata": {
        "id": "tEqCeQ-HiB23"
      }
    },
    {
      "cell_type": "code",
      "source": [],
      "metadata": {
        "id": "G2UWURNTiCUf"
      },
      "execution_count": null,
      "outputs": []
    }
  ]
}