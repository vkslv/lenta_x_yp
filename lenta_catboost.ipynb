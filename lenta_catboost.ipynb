{
  "nbformat": 4,
  "nbformat_minor": 0,
  "metadata": {
    "colab": {
      "provenance": []
    },
    "kernelspec": {
      "name": "python3",
      "display_name": "Python 3"
    },
    "language_info": {
      "name": "python"
    }
  },
  "cells": [
    {
      "cell_type": "code",
      "execution_count": 1,
      "metadata": {
        "colab": {
          "base_uri": "https://localhost:8080/"
        },
        "id": "g6bKqf59RRrN",
        "outputId": "9c2576ee-e509-4853-ef2c-0563757f7814"
      },
      "outputs": [
        {
          "output_type": "stream",
          "name": "stdout",
          "text": [
            "Mounted at /content/drive\n"
          ]
        }
      ],
      "source": [
        "from google.colab import drive\n",
        "drive.mount('/content/drive')"
      ]
    },
    {
      "cell_type": "markdown",
      "source": [
        "# Описание проекта"
      ],
      "metadata": {
        "id": "q5LITDqfWSgp"
      }
    },
    {
      "cell_type": "markdown",
      "source": [
        "Ретейлер \"Лента\" хочет научиться оптимизировать производство товаров. Необходимо построить модели, которые будут прогнозировать спрос на товары, чтобы не было недостатка и избытка в магазинах."
      ],
      "metadata": {
        "id": "Xlc_w69yWYut"
      }
    },
    {
      "cell_type": "markdown",
      "source": [
        "# План проекта"
      ],
      "metadata": {
        "id": "4AyQhQ1tW2BG"
      }
    },
    {
      "cell_type": "markdown",
      "source": [
        "1. Изучить данные, проверить на наличие аномалий, неправильных типов и т.д. Отчистить данные от них (при необходимости);\n",
        "2. Визуализировать полученные данные и сделать вывод;\n",
        "3. Обучить модели с подбором параметров и выбрать среди них наилучшую;\n",
        "4. Протестировать модель с лучшим показателем метрики и сделать выводы по итогам работы;\n"
      ],
      "metadata": {
        "id": "wlaL-_5XW5H5"
      }
    },
    {
      "cell_type": "markdown",
      "source": [
        "Необходимые библиотеки:"
      ],
      "metadata": {
        "id": "tHWs_y5yWLl1"
      }
    },
    {
      "cell_type": "code",
      "source": [
        "!pip install  catboost"
      ],
      "metadata": {
        "id": "0i2J13dxWGnH"
      },
      "execution_count": null,
      "outputs": []
    },
    {
      "cell_type": "code",
      "source": [
        "import pandas as pd\n",
        "import matplotlib.pyplot as plt\n",
        "import seaborn as sns\n",
        "import numpy as np\n",
        "import warnings\n",
        "\n",
        "from collections import Counter\n",
        "warnings.filterwarnings('ignore')"
      ],
      "metadata": {
        "id": "2QtSeb3ZRT98"
      },
      "execution_count": 2,
      "outputs": []
    },
    {
      "cell_type": "markdown",
      "source": [
        "---"
      ],
      "metadata": {
        "id": "6T7lz5XgWKKx"
      }
    },
    {
      "cell_type": "markdown",
      "source": [
        "# EDA"
      ],
      "metadata": {
        "id": "_gdlqnoXXlnk"
      }
    },
    {
      "cell_type": "code",
      "source": [
        "# данные по магазинам\n",
        "st_df = pd.read_csv(r'/content/drive/MyDrive/sp_sales_task/st_df.csv')\n",
        "\n",
        "# данные по иерархии товаров\n",
        "pr_df = pd.read_csv(r'/content/drive/MyDrive/sp_sales_task/pr_df.csv')\n",
        "\n",
        "# данные по продажам\n",
        "sales_df_train = pd.read_csv(r'/content/drive/MyDrive/sp_sales_task/sales_df_train.csv')\n",
        "\n",
        "# календарь\n",
        "calendar = pd.read_csv(r'/content/drive/MyDrive/sp_sales_task/holidays_covid_calendar.csv')"
      ],
      "metadata": {
        "id": "snQT34PARVmd"
      },
      "execution_count": 3,
      "outputs": []
    },
    {
      "cell_type": "code",
      "source": [
        "# мерджим флаг активности\n",
        "sales_df_train = pd.merge(sales_df_train, st_df[['st_id','st_is_active']], on='st_id', how='left')"
      ],
      "metadata": {
        "id": "UjuBqUwNRcMS"
      },
      "execution_count": 4,
      "outputs": []
    },
    {
      "cell_type": "code",
      "source": [
        "# выбираем только рабочие магазины\n",
        "sales_df_train = sales_df_train[sales_df_train['st_is_active'] == 1]"
      ],
      "metadata": {
        "id": "lBljLXjlReF5"
      },
      "execution_count": 5,
      "outputs": []
    },
    {
      "cell_type": "code",
      "source": [
        "# избавляемся от возвратных позиций\n",
        "sales_df_train = sales_df_train[sales_df_train['pr_sales_in_rub'] >= 0]"
      ],
      "metadata": {
        "id": "GPFcUMM0RfOn"
      },
      "execution_count": 6,
      "outputs": []
    },
    {
      "cell_type": "code",
      "source": [
        "# информация по размеру дф\n",
        "sales_df_train.shape"
      ],
      "metadata": {
        "colab": {
          "base_uri": "https://localhost:8080/"
        },
        "id": "W6kSwdNfRgRZ",
        "outputId": "aed81632-268b-4346-e697-d065ccd643fb"
      },
      "execution_count": 7,
      "outputs": [
        {
          "output_type": "execute_result",
          "data": {
            "text/plain": [
              "(882208, 9)"
            ]
          },
          "metadata": {},
          "execution_count": 7
        }
      ]
    },
    {
      "cell_type": "code",
      "source": [
        "# создал переменную, куда скопировал основной дф\n",
        "sales_df_train_1 = sales_df_train"
      ],
      "metadata": {
        "id": "4lrR-mRJV0pe"
      },
      "execution_count": 8,
      "outputs": []
    },
    {
      "cell_type": "code",
      "source": [
        "# удаляем все строки, где объем продаж = 0\n",
        "sales_df_train_1 = sales_df_train_1[sales_df_train_1['pr_sales_in_units'] != 0]"
      ],
      "metadata": {
        "id": "AdrrJZ0wV3IX"
      },
      "execution_count": 9,
      "outputs": []
    },
    {
      "cell_type": "code",
      "source": [
        "# удаляю строки, где сумма продаж по 1 позиции меньше 15 тыс. руб.\n",
        "sales_df_train_1 = sales_df_train_1[sales_df_train_1['pr_sales_in_rub'] < 15000]"
      ],
      "metadata": {
        "id": "xOqKnwrVWbSf"
      },
      "execution_count": 11,
      "outputs": []
    },
    {
      "cell_type": "code",
      "source": [
        "# агрегирую продажи по магазинам\n",
        "gr_shop = sales_df_train_1.groupby('st_id').agg({'pr_sales_in_rub':'sum', 'pr_sales_in_units':'sum'}).reset_index()"
      ],
      "metadata": {
        "id": "6tGwNu8pWr5P"
      },
      "execution_count": 13,
      "outputs": []
    },
    {
      "cell_type": "code",
      "source": [
        "# информация по суммарным продажам по магазинам\n",
        "gr_shop.sort_values(by='pr_sales_in_units')"
      ],
      "metadata": {
        "colab": {
          "base_uri": "https://localhost:8080/",
          "height": 363
        },
        "id": "GQMLALMWW7BP",
        "outputId": "54b915b0-1ace-47b0-d3bd-4a7f8b8c904a"
      },
      "execution_count": 14,
      "outputs": [
        {
          "output_type": "execute_result",
          "data": {
            "text/plain": [
              "                              st_id  pr_sales_in_rub  pr_sales_in_units\n",
              "0  084a8a9aa8cced9175bd07bc44998e75           6836.0               49.0\n",
              "6  bd470ca955d9497bbcb808e59952fffc         251196.0             5114.0\n",
              "4  53e19f3dbb211f20b20b45668303c1b6        1072659.0            19227.0\n",
              "2  1ecfb463472ec9115b10c292ef8bc986        8258219.0           129190.0\n",
              "9  fa7cdfad1a5aaf8370ebeda47a1ff1c3       60084254.0           496844.0\n",
              "5  6364d3f0f495b6ab9dcf8d3b5c6e0b01       61109229.0           498561.0\n",
              "8  f7e6c85504ce6e82442c770f7c8606f0       70936095.0           638501.0\n",
              "3  42a0e188f5033bc65bf8d78622277c4e       82711537.0           683572.0\n",
              "1  16a5cdae362b8d27a1d8f8c7b78b4330       93872972.0           819797.0\n",
              "7  c81e728d9d4c2f636f067f89cc14862c      106060125.0           938747.0"
            ],
            "text/html": [
              "\n",
              "  <div id=\"df-84b12cb3-c3b6-4bb3-ae05-73b3cec0885a\" class=\"colab-df-container\">\n",
              "    <div>\n",
              "<style scoped>\n",
              "    .dataframe tbody tr th:only-of-type {\n",
              "        vertical-align: middle;\n",
              "    }\n",
              "\n",
              "    .dataframe tbody tr th {\n",
              "        vertical-align: top;\n",
              "    }\n",
              "\n",
              "    .dataframe thead th {\n",
              "        text-align: right;\n",
              "    }\n",
              "</style>\n",
              "<table border=\"1\" class=\"dataframe\">\n",
              "  <thead>\n",
              "    <tr style=\"text-align: right;\">\n",
              "      <th></th>\n",
              "      <th>st_id</th>\n",
              "      <th>pr_sales_in_rub</th>\n",
              "      <th>pr_sales_in_units</th>\n",
              "    </tr>\n",
              "  </thead>\n",
              "  <tbody>\n",
              "    <tr>\n",
              "      <th>0</th>\n",
              "      <td>084a8a9aa8cced9175bd07bc44998e75</td>\n",
              "      <td>6836.0</td>\n",
              "      <td>49.0</td>\n",
              "    </tr>\n",
              "    <tr>\n",
              "      <th>6</th>\n",
              "      <td>bd470ca955d9497bbcb808e59952fffc</td>\n",
              "      <td>251196.0</td>\n",
              "      <td>5114.0</td>\n",
              "    </tr>\n",
              "    <tr>\n",
              "      <th>4</th>\n",
              "      <td>53e19f3dbb211f20b20b45668303c1b6</td>\n",
              "      <td>1072659.0</td>\n",
              "      <td>19227.0</td>\n",
              "    </tr>\n",
              "    <tr>\n",
              "      <th>2</th>\n",
              "      <td>1ecfb463472ec9115b10c292ef8bc986</td>\n",
              "      <td>8258219.0</td>\n",
              "      <td>129190.0</td>\n",
              "    </tr>\n",
              "    <tr>\n",
              "      <th>9</th>\n",
              "      <td>fa7cdfad1a5aaf8370ebeda47a1ff1c3</td>\n",
              "      <td>60084254.0</td>\n",
              "      <td>496844.0</td>\n",
              "    </tr>\n",
              "    <tr>\n",
              "      <th>5</th>\n",
              "      <td>6364d3f0f495b6ab9dcf8d3b5c6e0b01</td>\n",
              "      <td>61109229.0</td>\n",
              "      <td>498561.0</td>\n",
              "    </tr>\n",
              "    <tr>\n",
              "      <th>8</th>\n",
              "      <td>f7e6c85504ce6e82442c770f7c8606f0</td>\n",
              "      <td>70936095.0</td>\n",
              "      <td>638501.0</td>\n",
              "    </tr>\n",
              "    <tr>\n",
              "      <th>3</th>\n",
              "      <td>42a0e188f5033bc65bf8d78622277c4e</td>\n",
              "      <td>82711537.0</td>\n",
              "      <td>683572.0</td>\n",
              "    </tr>\n",
              "    <tr>\n",
              "      <th>1</th>\n",
              "      <td>16a5cdae362b8d27a1d8f8c7b78b4330</td>\n",
              "      <td>93872972.0</td>\n",
              "      <td>819797.0</td>\n",
              "    </tr>\n",
              "    <tr>\n",
              "      <th>7</th>\n",
              "      <td>c81e728d9d4c2f636f067f89cc14862c</td>\n",
              "      <td>106060125.0</td>\n",
              "      <td>938747.0</td>\n",
              "    </tr>\n",
              "  </tbody>\n",
              "</table>\n",
              "</div>\n",
              "    <div class=\"colab-df-buttons\">\n",
              "\n",
              "  <div class=\"colab-df-container\">\n",
              "    <button class=\"colab-df-convert\" onclick=\"convertToInteractive('df-84b12cb3-c3b6-4bb3-ae05-73b3cec0885a')\"\n",
              "            title=\"Convert this dataframe to an interactive table.\"\n",
              "            style=\"display:none;\">\n",
              "\n",
              "  <svg xmlns=\"http://www.w3.org/2000/svg\" height=\"24px\" viewBox=\"0 -960 960 960\">\n",
              "    <path d=\"M120-120v-720h720v720H120Zm60-500h600v-160H180v160Zm220 220h160v-160H400v160Zm0 220h160v-160H400v160ZM180-400h160v-160H180v160Zm440 0h160v-160H620v160ZM180-180h160v-160H180v160Zm440 0h160v-160H620v160Z\"/>\n",
              "  </svg>\n",
              "    </button>\n",
              "\n",
              "  <style>\n",
              "    .colab-df-container {\n",
              "      display:flex;\n",
              "      gap: 12px;\n",
              "    }\n",
              "\n",
              "    .colab-df-convert {\n",
              "      background-color: #E8F0FE;\n",
              "      border: none;\n",
              "      border-radius: 50%;\n",
              "      cursor: pointer;\n",
              "      display: none;\n",
              "      fill: #1967D2;\n",
              "      height: 32px;\n",
              "      padding: 0 0 0 0;\n",
              "      width: 32px;\n",
              "    }\n",
              "\n",
              "    .colab-df-convert:hover {\n",
              "      background-color: #E2EBFA;\n",
              "      box-shadow: 0px 1px 2px rgba(60, 64, 67, 0.3), 0px 1px 3px 1px rgba(60, 64, 67, 0.15);\n",
              "      fill: #174EA6;\n",
              "    }\n",
              "\n",
              "    .colab-df-buttons div {\n",
              "      margin-bottom: 4px;\n",
              "    }\n",
              "\n",
              "    [theme=dark] .colab-df-convert {\n",
              "      background-color: #3B4455;\n",
              "      fill: #D2E3FC;\n",
              "    }\n",
              "\n",
              "    [theme=dark] .colab-df-convert:hover {\n",
              "      background-color: #434B5C;\n",
              "      box-shadow: 0px 1px 3px 1px rgba(0, 0, 0, 0.15);\n",
              "      filter: drop-shadow(0px 1px 2px rgba(0, 0, 0, 0.3));\n",
              "      fill: #FFFFFF;\n",
              "    }\n",
              "  </style>\n",
              "\n",
              "    <script>\n",
              "      const buttonEl =\n",
              "        document.querySelector('#df-84b12cb3-c3b6-4bb3-ae05-73b3cec0885a button.colab-df-convert');\n",
              "      buttonEl.style.display =\n",
              "        google.colab.kernel.accessAllowed ? 'block' : 'none';\n",
              "\n",
              "      async function convertToInteractive(key) {\n",
              "        const element = document.querySelector('#df-84b12cb3-c3b6-4bb3-ae05-73b3cec0885a');\n",
              "        const dataTable =\n",
              "          await google.colab.kernel.invokeFunction('convertToInteractive',\n",
              "                                                    [key], {});\n",
              "        if (!dataTable) return;\n",
              "\n",
              "        const docLinkHtml = 'Like what you see? Visit the ' +\n",
              "          '<a target=\"_blank\" href=https://colab.research.google.com/notebooks/data_table.ipynb>data table notebook</a>'\n",
              "          + ' to learn more about interactive tables.';\n",
              "        element.innerHTML = '';\n",
              "        dataTable['output_type'] = 'display_data';\n",
              "        await google.colab.output.renderOutput(dataTable, element);\n",
              "        const docLink = document.createElement('div');\n",
              "        docLink.innerHTML = docLinkHtml;\n",
              "        element.appendChild(docLink);\n",
              "      }\n",
              "    </script>\n",
              "  </div>\n",
              "\n",
              "\n",
              "<div id=\"df-975e5652-21a5-413a-8b5d-40c5739f90b5\">\n",
              "  <button class=\"colab-df-quickchart\" onclick=\"quickchart('df-975e5652-21a5-413a-8b5d-40c5739f90b5')\"\n",
              "            title=\"Suggest charts.\"\n",
              "            style=\"display:none;\">\n",
              "\n",
              "<svg xmlns=\"http://www.w3.org/2000/svg\" height=\"24px\"viewBox=\"0 0 24 24\"\n",
              "     width=\"24px\">\n",
              "    <g>\n",
              "        <path d=\"M19 3H5c-1.1 0-2 .9-2 2v14c0 1.1.9 2 2 2h14c1.1 0 2-.9 2-2V5c0-1.1-.9-2-2-2zM9 17H7v-7h2v7zm4 0h-2V7h2v10zm4 0h-2v-4h2v4z\"/>\n",
              "    </g>\n",
              "</svg>\n",
              "  </button>\n",
              "\n",
              "<style>\n",
              "  .colab-df-quickchart {\n",
              "      --bg-color: #E8F0FE;\n",
              "      --fill-color: #1967D2;\n",
              "      --hover-bg-color: #E2EBFA;\n",
              "      --hover-fill-color: #174EA6;\n",
              "      --disabled-fill-color: #AAA;\n",
              "      --disabled-bg-color: #DDD;\n",
              "  }\n",
              "\n",
              "  [theme=dark] .colab-df-quickchart {\n",
              "      --bg-color: #3B4455;\n",
              "      --fill-color: #D2E3FC;\n",
              "      --hover-bg-color: #434B5C;\n",
              "      --hover-fill-color: #FFFFFF;\n",
              "      --disabled-bg-color: #3B4455;\n",
              "      --disabled-fill-color: #666;\n",
              "  }\n",
              "\n",
              "  .colab-df-quickchart {\n",
              "    background-color: var(--bg-color);\n",
              "    border: none;\n",
              "    border-radius: 50%;\n",
              "    cursor: pointer;\n",
              "    display: none;\n",
              "    fill: var(--fill-color);\n",
              "    height: 32px;\n",
              "    padding: 0;\n",
              "    width: 32px;\n",
              "  }\n",
              "\n",
              "  .colab-df-quickchart:hover {\n",
              "    background-color: var(--hover-bg-color);\n",
              "    box-shadow: 0 1px 2px rgba(60, 64, 67, 0.3), 0 1px 3px 1px rgba(60, 64, 67, 0.15);\n",
              "    fill: var(--button-hover-fill-color);\n",
              "  }\n",
              "\n",
              "  .colab-df-quickchart-complete:disabled,\n",
              "  .colab-df-quickchart-complete:disabled:hover {\n",
              "    background-color: var(--disabled-bg-color);\n",
              "    fill: var(--disabled-fill-color);\n",
              "    box-shadow: none;\n",
              "  }\n",
              "\n",
              "  .colab-df-spinner {\n",
              "    border: 2px solid var(--fill-color);\n",
              "    border-color: transparent;\n",
              "    border-bottom-color: var(--fill-color);\n",
              "    animation:\n",
              "      spin 1s steps(1) infinite;\n",
              "  }\n",
              "\n",
              "  @keyframes spin {\n",
              "    0% {\n",
              "      border-color: transparent;\n",
              "      border-bottom-color: var(--fill-color);\n",
              "      border-left-color: var(--fill-color);\n",
              "    }\n",
              "    20% {\n",
              "      border-color: transparent;\n",
              "      border-left-color: var(--fill-color);\n",
              "      border-top-color: var(--fill-color);\n",
              "    }\n",
              "    30% {\n",
              "      border-color: transparent;\n",
              "      border-left-color: var(--fill-color);\n",
              "      border-top-color: var(--fill-color);\n",
              "      border-right-color: var(--fill-color);\n",
              "    }\n",
              "    40% {\n",
              "      border-color: transparent;\n",
              "      border-right-color: var(--fill-color);\n",
              "      border-top-color: var(--fill-color);\n",
              "    }\n",
              "    60% {\n",
              "      border-color: transparent;\n",
              "      border-right-color: var(--fill-color);\n",
              "    }\n",
              "    80% {\n",
              "      border-color: transparent;\n",
              "      border-right-color: var(--fill-color);\n",
              "      border-bottom-color: var(--fill-color);\n",
              "    }\n",
              "    90% {\n",
              "      border-color: transparent;\n",
              "      border-bottom-color: var(--fill-color);\n",
              "    }\n",
              "  }\n",
              "</style>\n",
              "\n",
              "  <script>\n",
              "    async function quickchart(key) {\n",
              "      const quickchartButtonEl =\n",
              "        document.querySelector('#' + key + ' button');\n",
              "      quickchartButtonEl.disabled = true;  // To prevent multiple clicks.\n",
              "      quickchartButtonEl.classList.add('colab-df-spinner');\n",
              "      try {\n",
              "        const charts = await google.colab.kernel.invokeFunction(\n",
              "            'suggestCharts', [key], {});\n",
              "      } catch (error) {\n",
              "        console.error('Error during call to suggestCharts:', error);\n",
              "      }\n",
              "      quickchartButtonEl.classList.remove('colab-df-spinner');\n",
              "      quickchartButtonEl.classList.add('colab-df-quickchart-complete');\n",
              "    }\n",
              "    (() => {\n",
              "      let quickchartButtonEl =\n",
              "        document.querySelector('#df-975e5652-21a5-413a-8b5d-40c5739f90b5 button');\n",
              "      quickchartButtonEl.style.display =\n",
              "        google.colab.kernel.accessAllowed ? 'block' : 'none';\n",
              "    })();\n",
              "  </script>\n",
              "</div>\n",
              "    </div>\n",
              "  </div>\n"
            ]
          },
          "metadata": {},
          "execution_count": 14
        }
      ]
    },
    {
      "cell_type": "code",
      "source": [
        "# удаляю первые три магазина, где меньше всего продаж\n",
        "sales_df_train_1 = sales_df_train_1[~sales_df_train_1['st_id'].isin(['084a8a9aa8cced9175bd07bc44998e75',\n",
        "                                                                  'bd470ca955d9497bbcb808e59952fffc',\n",
        "                                                                  '53e19f3dbb211f20b20b45668303c1b6'])]"
      ],
      "metadata": {
        "id": "I9_ZzokQW7z9"
      },
      "execution_count": 15,
      "outputs": []
    },
    {
      "cell_type": "code",
      "source": [
        "# находим стоимость за единицу продукции\n",
        "sales_df_train_1['price'] = sales_df_train_1['pr_sales_in_rub'] / sales_df_train_1['pr_sales_in_units']"
      ],
      "metadata": {
        "id": "RFtKSxxjXp0T"
      },
      "execution_count": 18,
      "outputs": []
    },
    {
      "cell_type": "code",
      "source": [
        "# вывожу строки, где цена = 0\n",
        "sales_df_train_1[sales_df_train_1['price'] == 0].head()"
      ],
      "metadata": {
        "colab": {
          "base_uri": "https://localhost:8080/",
          "height": 444
        },
        "id": "XLjrmoBNYYWD",
        "outputId": "7bccc881-814b-4535-e5a3-eb38194781e1"
      },
      "execution_count": 19,
      "outputs": [
        {
          "output_type": "execute_result",
          "data": {
            "text/plain": [
              "                                   st_id                         pr_sku_id  \\\n",
              "30      f7e6c85504ce6e82442c770f7c8606f0  3474f0e025c7deb7e127a35763bc5512   \n",
              "7432    c81e728d9d4c2f636f067f89cc14862c  90252502ab29331e94fd3113f11c58e0   \n",
              "8153    f7e6c85504ce6e82442c770f7c8606f0  4e3d5c9fab3fc51a4857846fea3d2e57   \n",
              "8931    f7e6c85504ce6e82442c770f7c8606f0  0f152427918d29bb1081834c1d375a48   \n",
              "10269   f7e6c85504ce6e82442c770f7c8606f0  465e4f9b8d22467e46a6e02a78a40e97   \n",
              "...                                  ...                               ...   \n",
              "876801  1ecfb463472ec9115b10c292ef8bc986  525526d5b2169462195c44d49fff4a44   \n",
              "878163  fa7cdfad1a5aaf8370ebeda47a1ff1c3  27e8978c9e8b7146c462feb7d24f5637   \n",
              "882360  6364d3f0f495b6ab9dcf8d3b5c6e0b01  2dc922d957188fb51dd2bd50ec9b555a   \n",
              "882380  f7e6c85504ce6e82442c770f7c8606f0  9da31b9d3cf407cd724c65b7dfed00ee   \n",
              "882394  6364d3f0f495b6ab9dcf8d3b5c6e0b01  0f152427918d29bb1081834c1d375a48   \n",
              "\n",
              "              date  pr_sales_type_id  pr_sales_in_units  \\\n",
              "30      2023-06-06                 1                8.0   \n",
              "7432    2022-12-27                 1                2.0   \n",
              "8153    2022-12-19                 1                1.0   \n",
              "8931    2022-10-28                 1                2.0   \n",
              "10269   2023-01-17                 0                1.0   \n",
              "...            ...               ...                ...   \n",
              "876801  2022-10-22                 1                1.0   \n",
              "878163  2022-10-27                 1                9.0   \n",
              "882360  2022-10-29                 1               12.0   \n",
              "882380  2022-11-27                 1                3.0   \n",
              "882394  2022-10-22                 1               11.0   \n",
              "\n",
              "        pr_promo_sales_in_units  pr_sales_in_rub  pr_promo_sales_in_rub  \\\n",
              "30                          8.0              0.0                    0.0   \n",
              "7432                        2.0              0.0                    0.0   \n",
              "8153                        1.0              0.0                    0.0   \n",
              "8931                        2.0              0.0                    0.0   \n",
              "10269                       0.0              0.0                    0.0   \n",
              "...                         ...              ...                    ...   \n",
              "876801                      1.0              0.0                    0.0   \n",
              "878163                      9.0              0.0                    0.0   \n",
              "882360                     12.0              0.0                    0.0   \n",
              "882380                      3.0              0.0                    0.0   \n",
              "882394                     11.0              0.0                    0.0   \n",
              "\n",
              "        st_is_active  price  \n",
              "30                 1    0.0  \n",
              "7432               1    0.0  \n",
              "8153               1    0.0  \n",
              "8931               1    0.0  \n",
              "10269              1    0.0  \n",
              "...              ...    ...  \n",
              "876801             1    0.0  \n",
              "878163             1    0.0  \n",
              "882360             1    0.0  \n",
              "882380             1    0.0  \n",
              "882394             1    0.0  \n",
              "\n",
              "[767 rows x 10 columns]"
            ],
            "text/html": [
              "\n",
              "  <div id=\"df-7936ebbe-eead-4814-89af-fb342f8cbee3\" class=\"colab-df-container\">\n",
              "    <div>\n",
              "<style scoped>\n",
              "    .dataframe tbody tr th:only-of-type {\n",
              "        vertical-align: middle;\n",
              "    }\n",
              "\n",
              "    .dataframe tbody tr th {\n",
              "        vertical-align: top;\n",
              "    }\n",
              "\n",
              "    .dataframe thead th {\n",
              "        text-align: right;\n",
              "    }\n",
              "</style>\n",
              "<table border=\"1\" class=\"dataframe\">\n",
              "  <thead>\n",
              "    <tr style=\"text-align: right;\">\n",
              "      <th></th>\n",
              "      <th>st_id</th>\n",
              "      <th>pr_sku_id</th>\n",
              "      <th>date</th>\n",
              "      <th>pr_sales_type_id</th>\n",
              "      <th>pr_sales_in_units</th>\n",
              "      <th>pr_promo_sales_in_units</th>\n",
              "      <th>pr_sales_in_rub</th>\n",
              "      <th>pr_promo_sales_in_rub</th>\n",
              "      <th>st_is_active</th>\n",
              "      <th>price</th>\n",
              "    </tr>\n",
              "  </thead>\n",
              "  <tbody>\n",
              "    <tr>\n",
              "      <th>30</th>\n",
              "      <td>f7e6c85504ce6e82442c770f7c8606f0</td>\n",
              "      <td>3474f0e025c7deb7e127a35763bc5512</td>\n",
              "      <td>2023-06-06</td>\n",
              "      <td>1</td>\n",
              "      <td>8.0</td>\n",
              "      <td>8.0</td>\n",
              "      <td>0.0</td>\n",
              "      <td>0.0</td>\n",
              "      <td>1</td>\n",
              "      <td>0.0</td>\n",
              "    </tr>\n",
              "    <tr>\n",
              "      <th>7432</th>\n",
              "      <td>c81e728d9d4c2f636f067f89cc14862c</td>\n",
              "      <td>90252502ab29331e94fd3113f11c58e0</td>\n",
              "      <td>2022-12-27</td>\n",
              "      <td>1</td>\n",
              "      <td>2.0</td>\n",
              "      <td>2.0</td>\n",
              "      <td>0.0</td>\n",
              "      <td>0.0</td>\n",
              "      <td>1</td>\n",
              "      <td>0.0</td>\n",
              "    </tr>\n",
              "    <tr>\n",
              "      <th>8153</th>\n",
              "      <td>f7e6c85504ce6e82442c770f7c8606f0</td>\n",
              "      <td>4e3d5c9fab3fc51a4857846fea3d2e57</td>\n",
              "      <td>2022-12-19</td>\n",
              "      <td>1</td>\n",
              "      <td>1.0</td>\n",
              "      <td>1.0</td>\n",
              "      <td>0.0</td>\n",
              "      <td>0.0</td>\n",
              "      <td>1</td>\n",
              "      <td>0.0</td>\n",
              "    </tr>\n",
              "    <tr>\n",
              "      <th>8931</th>\n",
              "      <td>f7e6c85504ce6e82442c770f7c8606f0</td>\n",
              "      <td>0f152427918d29bb1081834c1d375a48</td>\n",
              "      <td>2022-10-28</td>\n",
              "      <td>1</td>\n",
              "      <td>2.0</td>\n",
              "      <td>2.0</td>\n",
              "      <td>0.0</td>\n",
              "      <td>0.0</td>\n",
              "      <td>1</td>\n",
              "      <td>0.0</td>\n",
              "    </tr>\n",
              "    <tr>\n",
              "      <th>10269</th>\n",
              "      <td>f7e6c85504ce6e82442c770f7c8606f0</td>\n",
              "      <td>465e4f9b8d22467e46a6e02a78a40e97</td>\n",
              "      <td>2023-01-17</td>\n",
              "      <td>0</td>\n",
              "      <td>1.0</td>\n",
              "      <td>0.0</td>\n",
              "      <td>0.0</td>\n",
              "      <td>0.0</td>\n",
              "      <td>1</td>\n",
              "      <td>0.0</td>\n",
              "    </tr>\n",
              "    <tr>\n",
              "      <th>...</th>\n",
              "      <td>...</td>\n",
              "      <td>...</td>\n",
              "      <td>...</td>\n",
              "      <td>...</td>\n",
              "      <td>...</td>\n",
              "      <td>...</td>\n",
              "      <td>...</td>\n",
              "      <td>...</td>\n",
              "      <td>...</td>\n",
              "      <td>...</td>\n",
              "    </tr>\n",
              "    <tr>\n",
              "      <th>876801</th>\n",
              "      <td>1ecfb463472ec9115b10c292ef8bc986</td>\n",
              "      <td>525526d5b2169462195c44d49fff4a44</td>\n",
              "      <td>2022-10-22</td>\n",
              "      <td>1</td>\n",
              "      <td>1.0</td>\n",
              "      <td>1.0</td>\n",
              "      <td>0.0</td>\n",
              "      <td>0.0</td>\n",
              "      <td>1</td>\n",
              "      <td>0.0</td>\n",
              "    </tr>\n",
              "    <tr>\n",
              "      <th>878163</th>\n",
              "      <td>fa7cdfad1a5aaf8370ebeda47a1ff1c3</td>\n",
              "      <td>27e8978c9e8b7146c462feb7d24f5637</td>\n",
              "      <td>2022-10-27</td>\n",
              "      <td>1</td>\n",
              "      <td>9.0</td>\n",
              "      <td>9.0</td>\n",
              "      <td>0.0</td>\n",
              "      <td>0.0</td>\n",
              "      <td>1</td>\n",
              "      <td>0.0</td>\n",
              "    </tr>\n",
              "    <tr>\n",
              "      <th>882360</th>\n",
              "      <td>6364d3f0f495b6ab9dcf8d3b5c6e0b01</td>\n",
              "      <td>2dc922d957188fb51dd2bd50ec9b555a</td>\n",
              "      <td>2022-10-29</td>\n",
              "      <td>1</td>\n",
              "      <td>12.0</td>\n",
              "      <td>12.0</td>\n",
              "      <td>0.0</td>\n",
              "      <td>0.0</td>\n",
              "      <td>1</td>\n",
              "      <td>0.0</td>\n",
              "    </tr>\n",
              "    <tr>\n",
              "      <th>882380</th>\n",
              "      <td>f7e6c85504ce6e82442c770f7c8606f0</td>\n",
              "      <td>9da31b9d3cf407cd724c65b7dfed00ee</td>\n",
              "      <td>2022-11-27</td>\n",
              "      <td>1</td>\n",
              "      <td>3.0</td>\n",
              "      <td>3.0</td>\n",
              "      <td>0.0</td>\n",
              "      <td>0.0</td>\n",
              "      <td>1</td>\n",
              "      <td>0.0</td>\n",
              "    </tr>\n",
              "    <tr>\n",
              "      <th>882394</th>\n",
              "      <td>6364d3f0f495b6ab9dcf8d3b5c6e0b01</td>\n",
              "      <td>0f152427918d29bb1081834c1d375a48</td>\n",
              "      <td>2022-10-22</td>\n",
              "      <td>1</td>\n",
              "      <td>11.0</td>\n",
              "      <td>11.0</td>\n",
              "      <td>0.0</td>\n",
              "      <td>0.0</td>\n",
              "      <td>1</td>\n",
              "      <td>0.0</td>\n",
              "    </tr>\n",
              "  </tbody>\n",
              "</table>\n",
              "<p>767 rows × 10 columns</p>\n",
              "</div>\n",
              "    <div class=\"colab-df-buttons\">\n",
              "\n",
              "  <div class=\"colab-df-container\">\n",
              "    <button class=\"colab-df-convert\" onclick=\"convertToInteractive('df-7936ebbe-eead-4814-89af-fb342f8cbee3')\"\n",
              "            title=\"Convert this dataframe to an interactive table.\"\n",
              "            style=\"display:none;\">\n",
              "\n",
              "  <svg xmlns=\"http://www.w3.org/2000/svg\" height=\"24px\" viewBox=\"0 -960 960 960\">\n",
              "    <path d=\"M120-120v-720h720v720H120Zm60-500h600v-160H180v160Zm220 220h160v-160H400v160Zm0 220h160v-160H400v160ZM180-400h160v-160H180v160Zm440 0h160v-160H620v160ZM180-180h160v-160H180v160Zm440 0h160v-160H620v160Z\"/>\n",
              "  </svg>\n",
              "    </button>\n",
              "\n",
              "  <style>\n",
              "    .colab-df-container {\n",
              "      display:flex;\n",
              "      gap: 12px;\n",
              "    }\n",
              "\n",
              "    .colab-df-convert {\n",
              "      background-color: #E8F0FE;\n",
              "      border: none;\n",
              "      border-radius: 50%;\n",
              "      cursor: pointer;\n",
              "      display: none;\n",
              "      fill: #1967D2;\n",
              "      height: 32px;\n",
              "      padding: 0 0 0 0;\n",
              "      width: 32px;\n",
              "    }\n",
              "\n",
              "    .colab-df-convert:hover {\n",
              "      background-color: #E2EBFA;\n",
              "      box-shadow: 0px 1px 2px rgba(60, 64, 67, 0.3), 0px 1px 3px 1px rgba(60, 64, 67, 0.15);\n",
              "      fill: #174EA6;\n",
              "    }\n",
              "\n",
              "    .colab-df-buttons div {\n",
              "      margin-bottom: 4px;\n",
              "    }\n",
              "\n",
              "    [theme=dark] .colab-df-convert {\n",
              "      background-color: #3B4455;\n",
              "      fill: #D2E3FC;\n",
              "    }\n",
              "\n",
              "    [theme=dark] .colab-df-convert:hover {\n",
              "      background-color: #434B5C;\n",
              "      box-shadow: 0px 1px 3px 1px rgba(0, 0, 0, 0.15);\n",
              "      filter: drop-shadow(0px 1px 2px rgba(0, 0, 0, 0.3));\n",
              "      fill: #FFFFFF;\n",
              "    }\n",
              "  </style>\n",
              "\n",
              "    <script>\n",
              "      const buttonEl =\n",
              "        document.querySelector('#df-7936ebbe-eead-4814-89af-fb342f8cbee3 button.colab-df-convert');\n",
              "      buttonEl.style.display =\n",
              "        google.colab.kernel.accessAllowed ? 'block' : 'none';\n",
              "\n",
              "      async function convertToInteractive(key) {\n",
              "        const element = document.querySelector('#df-7936ebbe-eead-4814-89af-fb342f8cbee3');\n",
              "        const dataTable =\n",
              "          await google.colab.kernel.invokeFunction('convertToInteractive',\n",
              "                                                    [key], {});\n",
              "        if (!dataTable) return;\n",
              "\n",
              "        const docLinkHtml = 'Like what you see? Visit the ' +\n",
              "          '<a target=\"_blank\" href=https://colab.research.google.com/notebooks/data_table.ipynb>data table notebook</a>'\n",
              "          + ' to learn more about interactive tables.';\n",
              "        element.innerHTML = '';\n",
              "        dataTable['output_type'] = 'display_data';\n",
              "        await google.colab.output.renderOutput(dataTable, element);\n",
              "        const docLink = document.createElement('div');\n",
              "        docLink.innerHTML = docLinkHtml;\n",
              "        element.appendChild(docLink);\n",
              "      }\n",
              "    </script>\n",
              "  </div>\n",
              "\n",
              "\n",
              "<div id=\"df-dd8bedf9-1727-4f02-853f-0d12cb04a4fb\">\n",
              "  <button class=\"colab-df-quickchart\" onclick=\"quickchart('df-dd8bedf9-1727-4f02-853f-0d12cb04a4fb')\"\n",
              "            title=\"Suggest charts.\"\n",
              "            style=\"display:none;\">\n",
              "\n",
              "<svg xmlns=\"http://www.w3.org/2000/svg\" height=\"24px\"viewBox=\"0 0 24 24\"\n",
              "     width=\"24px\">\n",
              "    <g>\n",
              "        <path d=\"M19 3H5c-1.1 0-2 .9-2 2v14c0 1.1.9 2 2 2h14c1.1 0 2-.9 2-2V5c0-1.1-.9-2-2-2zM9 17H7v-7h2v7zm4 0h-2V7h2v10zm4 0h-2v-4h2v4z\"/>\n",
              "    </g>\n",
              "</svg>\n",
              "  </button>\n",
              "\n",
              "<style>\n",
              "  .colab-df-quickchart {\n",
              "      --bg-color: #E8F0FE;\n",
              "      --fill-color: #1967D2;\n",
              "      --hover-bg-color: #E2EBFA;\n",
              "      --hover-fill-color: #174EA6;\n",
              "      --disabled-fill-color: #AAA;\n",
              "      --disabled-bg-color: #DDD;\n",
              "  }\n",
              "\n",
              "  [theme=dark] .colab-df-quickchart {\n",
              "      --bg-color: #3B4455;\n",
              "      --fill-color: #D2E3FC;\n",
              "      --hover-bg-color: #434B5C;\n",
              "      --hover-fill-color: #FFFFFF;\n",
              "      --disabled-bg-color: #3B4455;\n",
              "      --disabled-fill-color: #666;\n",
              "  }\n",
              "\n",
              "  .colab-df-quickchart {\n",
              "    background-color: var(--bg-color);\n",
              "    border: none;\n",
              "    border-radius: 50%;\n",
              "    cursor: pointer;\n",
              "    display: none;\n",
              "    fill: var(--fill-color);\n",
              "    height: 32px;\n",
              "    padding: 0;\n",
              "    width: 32px;\n",
              "  }\n",
              "\n",
              "  .colab-df-quickchart:hover {\n",
              "    background-color: var(--hover-bg-color);\n",
              "    box-shadow: 0 1px 2px rgba(60, 64, 67, 0.3), 0 1px 3px 1px rgba(60, 64, 67, 0.15);\n",
              "    fill: var(--button-hover-fill-color);\n",
              "  }\n",
              "\n",
              "  .colab-df-quickchart-complete:disabled,\n",
              "  .colab-df-quickchart-complete:disabled:hover {\n",
              "    background-color: var(--disabled-bg-color);\n",
              "    fill: var(--disabled-fill-color);\n",
              "    box-shadow: none;\n",
              "  }\n",
              "\n",
              "  .colab-df-spinner {\n",
              "    border: 2px solid var(--fill-color);\n",
              "    border-color: transparent;\n",
              "    border-bottom-color: var(--fill-color);\n",
              "    animation:\n",
              "      spin 1s steps(1) infinite;\n",
              "  }\n",
              "\n",
              "  @keyframes spin {\n",
              "    0% {\n",
              "      border-color: transparent;\n",
              "      border-bottom-color: var(--fill-color);\n",
              "      border-left-color: var(--fill-color);\n",
              "    }\n",
              "    20% {\n",
              "      border-color: transparent;\n",
              "      border-left-color: var(--fill-color);\n",
              "      border-top-color: var(--fill-color);\n",
              "    }\n",
              "    30% {\n",
              "      border-color: transparent;\n",
              "      border-left-color: var(--fill-color);\n",
              "      border-top-color: var(--fill-color);\n",
              "      border-right-color: var(--fill-color);\n",
              "    }\n",
              "    40% {\n",
              "      border-color: transparent;\n",
              "      border-right-color: var(--fill-color);\n",
              "      border-top-color: var(--fill-color);\n",
              "    }\n",
              "    60% {\n",
              "      border-color: transparent;\n",
              "      border-right-color: var(--fill-color);\n",
              "    }\n",
              "    80% {\n",
              "      border-color: transparent;\n",
              "      border-right-color: var(--fill-color);\n",
              "      border-bottom-color: var(--fill-color);\n",
              "    }\n",
              "    90% {\n",
              "      border-color: transparent;\n",
              "      border-bottom-color: var(--fill-color);\n",
              "    }\n",
              "  }\n",
              "</style>\n",
              "\n",
              "  <script>\n",
              "    async function quickchart(key) {\n",
              "      const quickchartButtonEl =\n",
              "        document.querySelector('#' + key + ' button');\n",
              "      quickchartButtonEl.disabled = true;  // To prevent multiple clicks.\n",
              "      quickchartButtonEl.classList.add('colab-df-spinner');\n",
              "      try {\n",
              "        const charts = await google.colab.kernel.invokeFunction(\n",
              "            'suggestCharts', [key], {});\n",
              "      } catch (error) {\n",
              "        console.error('Error during call to suggestCharts:', error);\n",
              "      }\n",
              "      quickchartButtonEl.classList.remove('colab-df-spinner');\n",
              "      quickchartButtonEl.classList.add('colab-df-quickchart-complete');\n",
              "    }\n",
              "    (() => {\n",
              "      let quickchartButtonEl =\n",
              "        document.querySelector('#df-dd8bedf9-1727-4f02-853f-0d12cb04a4fb button');\n",
              "      quickchartButtonEl.style.display =\n",
              "        google.colab.kernel.accessAllowed ? 'block' : 'none';\n",
              "    })();\n",
              "  </script>\n",
              "</div>\n",
              "    </div>\n",
              "  </div>\n"
            ]
          },
          "metadata": {},
          "execution_count": 19
        }
      ]
    },
    {
      "cell_type": "code",
      "source": [
        "# удаляю строки, где price = 0\n",
        "sales_df_train_1.drop(sales_df_train_1[sales_df_train_1['price'] == 0].index, inplace=True)"
      ],
      "metadata": {
        "id": "YV4HxjmiA9-e"
      },
      "execution_count": 20,
      "outputs": []
    },
    {
      "cell_type": "code",
      "source": [
        "# небольшие махинации для дальнейшего метода merge\n",
        "sales_df_train_1.drop(columns='st_is_active', inplace=True)\n",
        "calendar['calday'] = calendar['calday'].astype(str)\n",
        "sales_df_train_1['date'] = pd.to_datetime(sales_df_train_1['date']).dt.strftime('%Y%m%d')"
      ],
      "metadata": {
        "id": "5ii88IgyBku_"
      },
      "execution_count": 22,
      "outputs": []
    },
    {
      "cell_type": "code",
      "source": [
        "sales_df_train_1 = pd.merge(sales_df_train_1, calendar, left_on='date',\n",
        "                          right_on='calday', how='left')"
      ],
      "metadata": {
        "id": "WJkLsm_CBl49"
      },
      "execution_count": 23,
      "outputs": []
    },
    {
      "cell_type": "code",
      "source": [
        "# приводим в приличный вид\n",
        "sales_df_train_1.drop(columns='date_y', inplace=True)\n",
        "sales_df_train_1.rename(columns={'date_x':'date'}, inplace=True)"
      ],
      "metadata": {
        "id": "NJQzGcS0Buu2"
      },
      "execution_count": 24,
      "outputs": []
    },
    {
      "cell_type": "code",
      "source": [
        "# добавляем фич с номером месяца\n",
        "sales_df_train_1['month'] = sales_df_train_1['calday'].str[4:6]"
      ],
      "metadata": {
        "id": "xwcA2F-uBv4q"
      },
      "execution_count": 25,
      "outputs": []
    },
    {
      "cell_type": "code",
      "source": [
        "# добавляем фичи с товарной иерархией\n",
        "sales_df_train_1 = pd.merge(sales_df_train_1, pr_df, on='pr_sku_id', how='left')"
      ],
      "metadata": {
        "id": "yhPPqravByVe"
      },
      "execution_count": 26,
      "outputs": []
    },
    {
      "cell_type": "code",
      "source": [
        "# добавляем фичи с данными по магазинам\n",
        "sales_df_train_1 = pd.merge(sales_df_train_1, st_df, on='st_id', how='left')"
      ],
      "metadata": {
        "id": "wau9OoagBz_6"
      },
      "execution_count": 27,
      "outputs": []
    },
    {
      "cell_type": "code",
      "source": [
        "# описательная статистика продаж без промо\n",
        "sales_df_train_1[sales_df_train_1['pr_sales_type_id'] == 0]['pr_sales_in_rub'].describe()"
      ],
      "metadata": {
        "colab": {
          "base_uri": "https://localhost:8080/"
        },
        "id": "mwVcEKa74prl",
        "outputId": "0d2f1a52-9336-4ec9-ea27-6a76bdeef933"
      },
      "execution_count": 28,
      "outputs": [
        {
          "output_type": "execute_result",
          "data": {
            "text/plain": [
              "count    482892.000000\n",
              "mean        532.769027\n",
              "std         911.088761\n",
              "min           1.000000\n",
              "25%         133.000000\n",
              "50%         270.000000\n",
              "75%         571.000000\n",
              "max       14996.000000\n",
              "Name: pr_sales_in_rub, dtype: float64"
            ]
          },
          "metadata": {},
          "execution_count": 28
        }
      ]
    },
    {
      "cell_type": "code",
      "source": [
        "# описательная статистика продаж с промо\n",
        "sales_df_train_1[sales_df_train_1['pr_sales_type_id'] == 1]['pr_sales_in_rub'].describe()"
      ],
      "metadata": {
        "colab": {
          "base_uri": "https://localhost:8080/"
        },
        "id": "xJIDdXi74sSt",
        "outputId": "4b7839dc-ff95-4129-9aec-eb12e8e08d94"
      },
      "execution_count": 29,
      "outputs": [
        {
          "output_type": "execute_result",
          "data": {
            "text/plain": [
              "count    318886.000000\n",
              "mean        707.972536\n",
              "std        1432.377995\n",
              "min           1.000000\n",
              "25%          96.000000\n",
              "50%         228.000000\n",
              "75%         643.000000\n",
              "max       14985.000000\n",
              "Name: pr_sales_in_rub, dtype: float64"
            ]
          },
          "metadata": {},
          "execution_count": 29
        }
      ]
    },
    {
      "cell_type": "code",
      "source": [
        "print('Обычные продажи в %:',\n",
        "      round(sales_df_train_1['pr_sales_type_id'].value_counts()[0]/len(sales_df_train_1) * 100))\n",
        "print('Промо продажи в %:',\n",
        "      round(sales_df_train_1['pr_sales_type_id'].value_counts()[1]/len(sales_df_train_1) * 100))"
      ],
      "metadata": {
        "colab": {
          "base_uri": "https://localhost:8080/"
        },
        "id": "5-g5znie4uIl",
        "outputId": "eba660cf-702a-4b9c-adb3-2b710e628e4b"
      },
      "execution_count": 30,
      "outputs": [
        {
          "output_type": "stream",
          "name": "stdout",
          "text": [
            "Обычные продажи в %: 60\n",
            "Промо продажи в %: 40\n"
          ]
        }
      ]
    },
    {
      "cell_type": "code",
      "source": [
        "# гистограммы\n",
        "sns.distplot(sales_df_train_1[sales_df_train_1['pr_sales_type_id'] == 1]['pr_sales_in_rub'],\n",
        "             label='С промо', color='red', bins=30)\n",
        "\n",
        "sns.distplot(sales_df_train_1[sales_df_train_1['pr_sales_type_id'] == 0]['pr_sales_in_rub'],\n",
        "             label='Без промо', color='black', bins=30)\n",
        "\n",
        "plt.xlabel('Продажи в рублях')\n",
        "plt.title('Гистограммы продаж с/без промо')\n",
        "plt.xlim(0, 10000)\n",
        "plt.legend()\n",
        "plt.show()"
      ],
      "metadata": {
        "colab": {
          "base_uri": "https://localhost:8080/",
          "height": 472
        },
        "id": "3UVEOqpI48pi",
        "outputId": "3b339b86-fddf-470b-d7b9-8a27fbd76df2"
      },
      "execution_count": 31,
      "outputs": [
        {
          "output_type": "display_data",
          "data": {
            "text/plain": [
              "<Figure size 640x480 with 1 Axes>"
            ],
            "image/png": "[encoded data removed]"
          },
          "metadata": {}
        }
      ]
    },
    {
      "cell_type": "code",
      "source": [
        "# диаграммы размаха\n",
        "fig, ax = plt.subplots()\n",
        "\n",
        "ax.boxplot(sales_df_train_1[sales_df_train_1['pr_sales_type_id'] == 0]['pr_sales_in_rub'],\n",
        "           positions=[1], labels=['Без промо'])\n",
        "\n",
        "ax.boxplot(sales_df_train_1[sales_df_train_1['pr_sales_type_id'] == 1]['pr_sales_in_rub'],\n",
        "           positions=[2], labels=['С промо'])\n",
        "\n",
        "ax.set_xlabel('Типы продаж')\n",
        "ax.set_title('Диаграммы размаха продаж с/без промо')\n",
        "plt.show()"
      ],
      "metadata": {
        "colab": {
          "base_uri": "https://localhost:8080/",
          "height": 472
        },
        "id": "WeDl3sC44-56",
        "outputId": "bafc2648-295b-4318-97f7-5f2958ca469d"
      },
      "execution_count": 32,
      "outputs": [
        {
          "output_type": "display_data",
          "data": {
            "text/plain": [
              "<Figure size 640x480 with 1 Axes>"
            ],
            "image/png": "[encoded data removed]"
          },
          "metadata": {}
        }
      ]
    },
    {
      "cell_type": "code",
      "source": [
        "# продажи по месяцам\n",
        "month_sales = sales_df_train_1.groupby(['year', 'month']).agg({'pr_sales_in_units':'sum'}).reset_index()"
      ],
      "metadata": {
        "id": "Rdgv-DMz5E69"
      },
      "execution_count": 33,
      "outputs": []
    },
    {
      "cell_type": "code",
      "source": [
        "plt.figure(figsize=(8, 4))\n",
        "plt.bar(month_sales['month'], month_sales['pr_sales_in_units'], color='black')\n",
        "plt.title(\"Сумма продаж за 22-23г. (в шт.)\")\n",
        "plt.xlabel(\"Месяц\")\n",
        "plt.ylabel(\"Кол-во товара\")"
      ],
      "metadata": {
        "colab": {
          "base_uri": "https://localhost:8080/",
          "height": 427
        },
        "id": "TBVZ7Kat5GLE",
        "outputId": "88196a5a-5c01-4df5-c693-2c41b9f56fdb"
      },
      "execution_count": 34,
      "outputs": [
        {
          "output_type": "execute_result",
          "data": {
            "text/plain": [
              "Text(0, 0.5, 'Кол-во товара')"
            ]
          },
          "metadata": {},
          "execution_count": 34
        },
        {
          "output_type": "display_data",
          "data": {
            "text/plain": [
              "<Figure size 800x400 with 1 Axes>"
            ],
            "image/png": "[encoded data removed]"
          },
          "metadata": {}
        }
      ]
    },
    {
      "cell_type": "markdown",
      "source": [
        "В процессе EDA было выполнено:\n",
        "- Отобраны только активные магазины по флагу;\n",
        "- Были удалены возвратные позиции, строки с объемом продаж = 0, строки с продажами более 15 тыс. руб.;\n",
        "- Были удалены магазины (3 шт.), где продажи были слишком малы по сравнению с другими магазинами;\n",
        "- Удалены также строки, где цена = 0;\n",
        "- Добавлены фичи: номер месяца, товарная иерархия, данные по магазинам;\n",
        "- Из описательной статистики по продажам можно сделать выводы:\n",
        "\t  a. Средняя покупка без промо - 532 руб., с промо 707 руб.;\n",
        "\t  b. Лишь 40% продаж приходится на промо%.\n",
        "- Построены гистрограммы продаж из которых видно, что большая часть продажь - до 2 тыс. руб.;\n",
        "- На диаграммах размаха видно, что есть много аномалий, однако не все аномалии - плохо, принято решение оставить эти выбросы;\n",
        "- Из графика \"Сумма продаж за...\" можно сделать вывод, что в Декабре продажи резко подскакивают, также рост продаж отмечается и в весенний период, когда много праздников и теплеет, летом замечен спад. Вероятно, люди уезжают кто куда и спрос на товары падает."
      ],
      "metadata": {
        "id": "WM8OTipGfVhE"
      }
    },
    {
      "cell_type": "markdown",
      "source": [
        "---"
      ],
      "metadata": {
        "id": "4PpvLuvs5mtt"
      }
    },
    {
      "cell_type": "markdown",
      "source": [
        "# Обучение моделей"
      ],
      "metadata": {
        "id": "esN-V_Ou6REg"
      }
    },
    {
      "cell_type": "code",
      "source": [
        "from sklearn.model_selection import TimeSeriesSplit\n",
        "from catboost import CatBoostRegressor\n",
        "from sklearn.metrics import mean_absolute_error\n",
        "\n",
        "state=17"
      ],
      "metadata": {
        "id": "tjUwYqDw5-qn"
      },
      "execution_count": 50,
      "outputs": []
    },
    {
      "cell_type": "code",
      "source": [
        "# фичи\n",
        "X = sales_df_train_1.drop(columns=['pr_sales_in_units'])\n",
        "\n",
        "# таргет\n",
        "y = sales_df_train_1['pr_sales_in_units']"
      ],
      "metadata": {
        "id": "mz1s9k9w505U"
      },
      "execution_count": 51,
      "outputs": []
    },
    {
      "cell_type": "code",
      "source": [
        "cat_features = X.select_dtypes(include='object').columns.to_list()\n",
        "cat_feature_indices = [X.columns.get_loc(col) for col in cat_features]"
      ],
      "metadata": {
        "id": "yG5ddw75HAqw"
      },
      "execution_count": 76,
      "outputs": []
    },
    {
      "cell_type": "code",
      "source": [
        "# задаем параметры модели\n",
        "%%time\n",
        "cb_model = CatBoostRegressor(\n",
        "    loss_function='MAE',\n",
        "    cat_features=cat_feature_indices,\n",
        "    silent=True\n",
        ")\n",
        "\n",
        "# params = {\n",
        "#     'learning_rate': [0.03, 0.1],\n",
        "#     'depth': [4, 6, 10],\n",
        "#     'l2_leaf_reg': [1, 5, 9]\n",
        "# }\n",
        "\n",
        "tscv = TimeSeriesSplit(n_splits=3)\n",
        "\n",
        "mae_scores = []  # Список для сохранения MAE для каждого фолда\n",
        "wape_scores = []  # Список для сохранения WAPE для каждого фолда\n",
        "\n",
        "for train_index, test_index in tscv.split(X):\n",
        "    X_train, X_test = X.iloc[train_index], X.iloc[test_index]\n",
        "    y_train, y_test = y.iloc[train_index], y.iloc[test_index]\n",
        "\n",
        "    # Обучение модели и оценка с учетом временной последовательности\n",
        "    cb_model.fit(X_train, y_train)\n",
        "    y_pred = cb_model.predict(X_test)\n",
        "\n",
        "    # Расчет MAE\n",
        "    mae = mean_absolute_error(y_test, y_pred)\n",
        "\n",
        "    # Расчет WAPE\n",
        "    wape = np.sum(np.abs(y_test - y_pred)) / np.sum(np.abs(y_test))\n",
        "\n",
        "    mae_scores.append(mae)\n",
        "    wape_scores.append(wape)\n",
        "\n",
        "# Вывод средних значений MAE и WAPE для всех фолдов\n",
        "average_mae = np.mean(mae_scores)\n",
        "average_wape = np.mean(wape_scores)\n",
        "\n",
        "print(\"Средний MAE:\", average_mae)\n",
        "print(\"Средний WAPE:\", average_wape)"
      ],
      "metadata": {
        "colab": {
          "base_uri": "https://localhost:8080/"
        },
        "id": "FOjVex7idIRT",
        "outputId": "636b389d-dde0-4094-bcfb-796532a1f0f6"
      },
      "execution_count": 88,
      "outputs": [
        {
          "output_type": "stream",
          "name": "stdout",
          "text": [
            "Средний MAE: 0.2537925366527727\n",
            "Средний WAPE: 0.04839657823661539\n",
            "CPU times: user 50min 35s, sys: 10.2 s, total: 50min 46s\n",
            "Wall time: 30min 32s\n"
          ]
        }
      ]
    },
    {
      "cell_type": "markdown",
      "source": [
        "! **ВАЖНО** ! Здесь будет ошибка. Не очень понятно, как сдавать sales_submission, если модель обучается на большом кол-ве фичей, а тут на вход подаются лишь код магазина, код товара и дата."
      ],
      "metadata": {
        "id": "ZQPpDTYl1yoO"
      }
    },
    {
      "cell_type": "code",
      "source": [
        "sales_submission = pd.read_csv(r'/content/drive/MyDrive/sp_sales_task/sales_submission.csv')"
      ],
      "metadata": {
        "id": "L0YwihNEp5s_"
      },
      "execution_count": 86,
      "outputs": []
    },
    {
      "cell_type": "code",
      "source": [
        "sales_submission.info()"
      ],
      "metadata": {
        "colab": {
          "base_uri": "https://localhost:8080/"
        },
        "id": "Ujlm2BE8zGKz",
        "outputId": "e4f84b03-98bf-44a0-b7ec-7815dc568a72"
      },
      "execution_count": 92,
      "outputs": [
        {
          "output_type": "stream",
          "name": "stdout",
          "text": [
            "<class 'pandas.core.frame.DataFrame'>\n",
            "RangeIndex: 43694 entries, 0 to 43693\n",
            "Data columns (total 4 columns):\n",
            " #   Column     Non-Null Count  Dtype \n",
            "---  ------     --------------  ----- \n",
            " 0   st_id      43694 non-null  object\n",
            " 1   pr_sku_id  43694 non-null  object\n",
            " 2   date       43694 non-null  object\n",
            " 3   target     43694 non-null  int64 \n",
            "dtypes: int64(1), object(3)\n",
            "memory usage: 1.3+ MB\n"
          ]
        }
      ]
    },
    {
      "cell_type": "code",
      "source": [
        "predictions = []\n",
        "for index, row in sales_submission.iterrows():\n",
        "    shop = row['st_id']\n",
        "    product = row['pr_sku_id']\n",
        "    date = row['date']\n",
        "\n",
        "    # Выполнение предсказания с использованием модели\n",
        "    prediction = cb_model.predict([shop, product, date])[0]\n",
        "\n",
        "    predictions.append(prediction)\n",
        "\n",
        "# Запись предсказаний в колонку \"target\" в submission_data\n",
        "sales_submission['target'] = predictions"
      ],
      "metadata": {
        "colab": {
          "base_uri": "https://localhost:8080/",
          "height": 426
        },
        "id": "xYppadB1zMm6",
        "outputId": "369c4fae-378b-4495-a627-8aa223c88636"
      },
      "execution_count": 93,
      "outputs": [
        {
          "output_type": "error",
          "ename": "CatBoostError",
          "evalue": "ignored",
          "traceback": [
            "\u001b[0;31m---------------------------------------------------------------------------\u001b[0m",
            "\u001b[0;31mCatBoostError\u001b[0m                             Traceback (most recent call last)",
            "\u001b[0;32m<ipython-input-93-59b46f60b819>\u001b[0m in \u001b[0;36m<cell line: 2>\u001b[0;34m()\u001b[0m\n\u001b[1;32m      6\u001b[0m \u001b[0;34m\u001b[0m\u001b[0m\n\u001b[1;32m      7\u001b[0m     \u001b[0;31m# Выполнение предсказания с использованием модели\u001b[0m\u001b[0;34m\u001b[0m\u001b[0;34m\u001b[0m\u001b[0m\n\u001b[0;32m----> 8\u001b[0;31m     \u001b[0mprediction\u001b[0m \u001b[0;34m=\u001b[0m \u001b[0mcb_model\u001b[0m\u001b[0;34m.\u001b[0m\u001b[0mpredict\u001b[0m\u001b[0;34m(\u001b[0m\u001b[0;34m[\u001b[0m\u001b[0mshop\u001b[0m\u001b[0;34m,\u001b[0m \u001b[0mproduct\u001b[0m\u001b[0;34m,\u001b[0m \u001b[0mdate\u001b[0m\u001b[0;34m]\u001b[0m\u001b[0;34m)\u001b[0m\u001b[0;34m[\u001b[0m\u001b[0;36m0\u001b[0m\u001b[0;34m]\u001b[0m\u001b[0;34m\u001b[0m\u001b[0;34m\u001b[0m\u001b[0m\n\u001b[0m\u001b[1;32m      9\u001b[0m \u001b[0;34m\u001b[0m\u001b[0m\n\u001b[1;32m     10\u001b[0m     \u001b[0mpredictions\u001b[0m\u001b[0;34m.\u001b[0m\u001b[0mappend\u001b[0m\u001b[0;34m(\u001b[0m\u001b[0mprediction\u001b[0m\u001b[0;34m)\u001b[0m\u001b[0;34m\u001b[0m\u001b[0;34m\u001b[0m\u001b[0m\n",
            "\u001b[0;32m/usr/local/lib/python3.10/dist-packages/catboost/core.py\u001b[0m in \u001b[0;36mpredict\u001b[0;34m(self, data, prediction_type, ntree_start, ntree_end, thread_count, verbose, task_type)\u001b[0m\n\u001b[1;32m   5746\u001b[0m         \u001b[0;32mif\u001b[0m \u001b[0mprediction_type\u001b[0m \u001b[0;32mis\u001b[0m \u001b[0;32mNone\u001b[0m\u001b[0;34m:\u001b[0m\u001b[0;34m\u001b[0m\u001b[0;34m\u001b[0m\u001b[0m\n\u001b[1;32m   5747\u001b[0m             \u001b[0mprediction_type\u001b[0m \u001b[0;34m=\u001b[0m \u001b[0mself\u001b[0m\u001b[0;34m.\u001b[0m\u001b[0m_get_default_prediction_type\u001b[0m\u001b[0;34m(\u001b[0m\u001b[0;34m)\u001b[0m\u001b[0;34m\u001b[0m\u001b[0;34m\u001b[0m\u001b[0m\n\u001b[0;32m-> 5748\u001b[0;31m         \u001b[0;32mreturn\u001b[0m \u001b[0mself\u001b[0m\u001b[0;34m.\u001b[0m\u001b[0m_predict\u001b[0m\u001b[0;34m(\u001b[0m\u001b[0mdata\u001b[0m\u001b[0;34m,\u001b[0m \u001b[0mprediction_type\u001b[0m\u001b[0;34m,\u001b[0m \u001b[0mntree_start\u001b[0m\u001b[0;34m,\u001b[0m \u001b[0mntree_end\u001b[0m\u001b[0;34m,\u001b[0m \u001b[0mthread_count\u001b[0m\u001b[0;34m,\u001b[0m \u001b[0mverbose\u001b[0m\u001b[0;34m,\u001b[0m \u001b[0;34m'predict'\u001b[0m\u001b[0;34m,\u001b[0m \u001b[0mtask_type\u001b[0m\u001b[0;34m)\u001b[0m\u001b[0;34m\u001b[0m\u001b[0;34m\u001b[0m\u001b[0m\n\u001b[0m\u001b[1;32m   5749\u001b[0m \u001b[0;34m\u001b[0m\u001b[0m\n\u001b[1;32m   5750\u001b[0m     \u001b[0;32mdef\u001b[0m \u001b[0mstaged_predict\u001b[0m\u001b[0;34m(\u001b[0m\u001b[0mself\u001b[0m\u001b[0;34m,\u001b[0m \u001b[0mdata\u001b[0m\u001b[0;34m,\u001b[0m \u001b[0mprediction_type\u001b[0m\u001b[0;34m=\u001b[0m\u001b[0;34m'RawFormulaVal'\u001b[0m\u001b[0;34m,\u001b[0m \u001b[0mntree_start\u001b[0m\u001b[0;34m=\u001b[0m\u001b[0;36m0\u001b[0m\u001b[0;34m,\u001b[0m \u001b[0mntree_end\u001b[0m\u001b[0;34m=\u001b[0m\u001b[0;36m0\u001b[0m\u001b[0;34m,\u001b[0m \u001b[0meval_period\u001b[0m\u001b[0;34m=\u001b[0m\u001b[0;36m1\u001b[0m\u001b[0;34m,\u001b[0m \u001b[0mthread_count\u001b[0m\u001b[0;34m=\u001b[0m\u001b[0;34m-\u001b[0m\u001b[0;36m1\u001b[0m\u001b[0;34m,\u001b[0m \u001b[0mverbose\u001b[0m\u001b[0;34m=\u001b[0m\u001b[0;32mNone\u001b[0m\u001b[0;34m)\u001b[0m\u001b[0;34m:\u001b[0m\u001b[0;34m\u001b[0m\u001b[0;34m\u001b[0m\u001b[0m\n",
            "\u001b[0;32m/usr/local/lib/python3.10/dist-packages/catboost/core.py\u001b[0m in \u001b[0;36m_predict\u001b[0;34m(self, data, prediction_type, ntree_start, ntree_end, thread_count, verbose, parent_method_name, task_type)\u001b[0m\n\u001b[1;32m   2503\u001b[0m         \u001b[0;32mif\u001b[0m \u001b[0mverbose\u001b[0m \u001b[0;32mis\u001b[0m \u001b[0;32mNone\u001b[0m\u001b[0;34m:\u001b[0m\u001b[0;34m\u001b[0m\u001b[0;34m\u001b[0m\u001b[0m\n\u001b[1;32m   2504\u001b[0m             \u001b[0mverbose\u001b[0m \u001b[0;34m=\u001b[0m \u001b[0;32mFalse\u001b[0m\u001b[0;34m\u001b[0m\u001b[0;34m\u001b[0m\u001b[0m\n\u001b[0;32m-> 2505\u001b[0;31m         \u001b[0mdata\u001b[0m\u001b[0;34m,\u001b[0m \u001b[0mdata_is_single_object\u001b[0m \u001b[0;34m=\u001b[0m \u001b[0mself\u001b[0m\u001b[0;34m.\u001b[0m\u001b[0m_process_predict_input_data\u001b[0m\u001b[0;34m(\u001b[0m\u001b[0mdata\u001b[0m\u001b[0;34m,\u001b[0m \u001b[0mparent_method_name\u001b[0m\u001b[0;34m,\u001b[0m \u001b[0mthread_count\u001b[0m\u001b[0;34m)\u001b[0m\u001b[0;34m\u001b[0m\u001b[0;34m\u001b[0m\u001b[0m\n\u001b[0m\u001b[1;32m   2506\u001b[0m         \u001b[0mself\u001b[0m\u001b[0;34m.\u001b[0m\u001b[0m_validate_prediction_type\u001b[0m\u001b[0;34m(\u001b[0m\u001b[0mprediction_type\u001b[0m\u001b[0;34m)\u001b[0m\u001b[0;34m\u001b[0m\u001b[0;34m\u001b[0m\u001b[0m\n\u001b[1;32m   2507\u001b[0m \u001b[0;34m\u001b[0m\u001b[0m\n",
            "\u001b[0;32m/usr/local/lib/python3.10/dist-packages/catboost/core.py\u001b[0m in \u001b[0;36m_process_predict_input_data\u001b[0;34m(self, data, parent_method_name, thread_count, label)\u001b[0m\n\u001b[1;32m   2483\u001b[0m         \u001b[0mis_single_object\u001b[0m \u001b[0;34m=\u001b[0m \u001b[0m_is_data_single_object\u001b[0m\u001b[0;34m(\u001b[0m\u001b[0mdata\u001b[0m\u001b[0;34m)\u001b[0m\u001b[0;34m\u001b[0m\u001b[0;34m\u001b[0m\u001b[0m\n\u001b[1;32m   2484\u001b[0m         \u001b[0;32mif\u001b[0m \u001b[0;32mnot\u001b[0m \u001b[0misinstance\u001b[0m\u001b[0;34m(\u001b[0m\u001b[0mdata\u001b[0m\u001b[0;34m,\u001b[0m \u001b[0mPool\u001b[0m\u001b[0;34m)\u001b[0m\u001b[0;34m:\u001b[0m\u001b[0;34m\u001b[0m\u001b[0;34m\u001b[0m\u001b[0m\n\u001b[0;32m-> 2485\u001b[0;31m             data = Pool(\n\u001b[0m\u001b[1;32m   2486\u001b[0m                 \u001b[0mdata\u001b[0m\u001b[0;34m=\u001b[0m\u001b[0;34m[\u001b[0m\u001b[0mdata\u001b[0m\u001b[0;34m]\u001b[0m \u001b[0;32mif\u001b[0m \u001b[0mis_single_object\u001b[0m \u001b[0;32melse\u001b[0m \u001b[0mdata\u001b[0m\u001b[0;34m,\u001b[0m\u001b[0;34m\u001b[0m\u001b[0;34m\u001b[0m\u001b[0m\n\u001b[1;32m   2487\u001b[0m                 \u001b[0mlabel\u001b[0m\u001b[0;34m=\u001b[0m\u001b[0mlabel\u001b[0m\u001b[0;34m,\u001b[0m\u001b[0;34m\u001b[0m\u001b[0;34m\u001b[0m\u001b[0m\n",
            "\u001b[0;32m/usr/local/lib/python3.10/dist-packages/catboost/core.py\u001b[0m in \u001b[0;36m__init__\u001b[0;34m(self, data, label, cat_features, text_features, embedding_features, embedding_features_data, column_description, pairs, delimiter, has_header, ignore_csv_quoting, weight, group_id, group_weight, subgroup_id, pairs_weight, baseline, timestamp, feature_names, feature_tags, thread_count, log_cout, log_cerr)\u001b[0m\n\u001b[1;32m    791\u001b[0m                     )\n\u001b[1;32m    792\u001b[0m \u001b[0;34m\u001b[0m\u001b[0m\n\u001b[0;32m--> 793\u001b[0;31m                 self._init(data, label, cat_features, text_features, embedding_features, embedding_features_data, pairs, weight,\n\u001b[0m\u001b[1;32m    794\u001b[0m                            group_id, group_weight, subgroup_id, pairs_weight, baseline, timestamp, feature_names, feature_tags, thread_count)\n\u001b[1;32m    795\u001b[0m         \u001b[0msuper\u001b[0m\u001b[0;34m(\u001b[0m\u001b[0mPool\u001b[0m\u001b[0;34m,\u001b[0m \u001b[0mself\u001b[0m\u001b[0;34m)\u001b[0m\u001b[0;34m.\u001b[0m\u001b[0m__init__\u001b[0m\u001b[0;34m(\u001b[0m\u001b[0;34m)\u001b[0m\u001b[0;34m\u001b[0m\u001b[0;34m\u001b[0m\u001b[0m\n",
            "\u001b[0;32m/usr/local/lib/python3.10/dist-packages/catboost/core.py\u001b[0m in \u001b[0;36m_init\u001b[0;34m(self, data, label, cat_features, text_features, embedding_features, embedding_features_data, pairs, weight, group_id, group_weight, subgroup_id, pairs_weight, baseline, timestamp, feature_names, feature_tags, thread_count)\u001b[0m\n\u001b[1;32m   1377\u001b[0m             \u001b[0mcat_features\u001b[0m \u001b[0;34m=\u001b[0m \u001b[0m_get_features_indices\u001b[0m\u001b[0;34m(\u001b[0m\u001b[0mcat_features\u001b[0m\u001b[0;34m,\u001b[0m \u001b[0mfeature_names\u001b[0m\u001b[0;34m)\u001b[0m\u001b[0;34m\u001b[0m\u001b[0;34m\u001b[0m\u001b[0m\n\u001b[1;32m   1378\u001b[0m             \u001b[0mself\u001b[0m\u001b[0;34m.\u001b[0m\u001b[0m_check_string_feature_type\u001b[0m\u001b[0;34m(\u001b[0m\u001b[0mcat_features\u001b[0m\u001b[0;34m,\u001b[0m \u001b[0;34m'cat_features'\u001b[0m\u001b[0;34m)\u001b[0m\u001b[0;34m\u001b[0m\u001b[0;34m\u001b[0m\u001b[0m\n\u001b[0;32m-> 1379\u001b[0;31m             \u001b[0mself\u001b[0m\u001b[0;34m.\u001b[0m\u001b[0m_check_string_feature_value\u001b[0m\u001b[0;34m(\u001b[0m\u001b[0mcat_features\u001b[0m\u001b[0;34m,\u001b[0m \u001b[0mfeatures_count\u001b[0m\u001b[0;34m,\u001b[0m \u001b[0;34m'cat_features'\u001b[0m\u001b[0;34m)\u001b[0m\u001b[0;34m\u001b[0m\u001b[0;34m\u001b[0m\u001b[0m\n\u001b[0m\u001b[1;32m   1380\u001b[0m         \u001b[0;32mif\u001b[0m \u001b[0mtext_features\u001b[0m \u001b[0;32mis\u001b[0m \u001b[0;32mnot\u001b[0m \u001b[0;32mNone\u001b[0m\u001b[0;34m:\u001b[0m\u001b[0;34m\u001b[0m\u001b[0;34m\u001b[0m\u001b[0m\n\u001b[1;32m   1381\u001b[0m             \u001b[0mtext_features\u001b[0m \u001b[0;34m=\u001b[0m \u001b[0m_get_features_indices\u001b[0m\u001b[0;34m(\u001b[0m\u001b[0mtext_features\u001b[0m\u001b[0;34m,\u001b[0m \u001b[0mfeature_names\u001b[0m\u001b[0;34m)\u001b[0m\u001b[0;34m\u001b[0m\u001b[0;34m\u001b[0m\u001b[0m\n",
            "\u001b[0;32m/usr/local/lib/python3.10/dist-packages/catboost/core.py\u001b[0m in \u001b[0;36m_check_string_feature_value\u001b[0;34m(self, features, features_count, features_name)\u001b[0m\n\u001b[1;32m    837\u001b[0m                 \u001b[0;32mraise\u001b[0m \u001b[0mCatBoostError\u001b[0m\u001b[0;34m(\u001b[0m\u001b[0;34m\"Invalid {}[{}] = {} value type={}: must be int().\"\u001b[0m\u001b[0;34m.\u001b[0m\u001b[0mformat\u001b[0m\u001b[0;34m(\u001b[0m\u001b[0mfeatures_name\u001b[0m\u001b[0;34m,\u001b[0m \u001b[0mindx\u001b[0m\u001b[0;34m,\u001b[0m \u001b[0mfeature\u001b[0m\u001b[0;34m,\u001b[0m \u001b[0mtype\u001b[0m\u001b[0;34m(\u001b[0m\u001b[0mfeature\u001b[0m\u001b[0;34m)\u001b[0m\u001b[0;34m)\u001b[0m\u001b[0;34m)\u001b[0m\u001b[0;34m\u001b[0m\u001b[0;34m\u001b[0m\u001b[0m\n\u001b[1;32m    838\u001b[0m             \u001b[0;32mif\u001b[0m \u001b[0mfeature\u001b[0m \u001b[0;34m>=\u001b[0m \u001b[0mfeatures_count\u001b[0m\u001b[0;34m:\u001b[0m\u001b[0;34m\u001b[0m\u001b[0;34m\u001b[0m\u001b[0m\n\u001b[0;32m--> 839\u001b[0;31m                 \u001b[0;32mraise\u001b[0m \u001b[0mCatBoostError\u001b[0m\u001b[0;34m(\u001b[0m\u001b[0;34m\"Invalid {}[{}] = {} value: index must be < {}.\"\u001b[0m\u001b[0;34m.\u001b[0m\u001b[0mformat\u001b[0m\u001b[0;34m(\u001b[0m\u001b[0mfeatures_name\u001b[0m\u001b[0;34m,\u001b[0m \u001b[0mindx\u001b[0m\u001b[0;34m,\u001b[0m \u001b[0mfeature\u001b[0m\u001b[0;34m,\u001b[0m \u001b[0mfeatures_count\u001b[0m\u001b[0;34m)\u001b[0m\u001b[0;34m)\u001b[0m\u001b[0;34m\u001b[0m\u001b[0;34m\u001b[0m\u001b[0m\n\u001b[0m\u001b[1;32m    840\u001b[0m \u001b[0;34m\u001b[0m\u001b[0m\n\u001b[1;32m    841\u001b[0m     \u001b[0;32mdef\u001b[0m \u001b[0m_check_pairs_type\u001b[0m\u001b[0;34m(\u001b[0m\u001b[0mself\u001b[0m\u001b[0;34m,\u001b[0m \u001b[0mpairs\u001b[0m\u001b[0;34m)\u001b[0m\u001b[0;34m:\u001b[0m\u001b[0;34m\u001b[0m\u001b[0;34m\u001b[0m\u001b[0m\n",
            "\u001b[0;31mCatBoostError\u001b[0m: Invalid cat_features[3] = 11 value: index must be < 3."
          ]
        }
      ]
    }
  ]
}